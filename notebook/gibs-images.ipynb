{
 "cells": [
  {
   "cell_type": "code",
   "execution_count": 4,
   "metadata": {},
   "outputs": [],
   "source": [
    "import cv2\n",
    "import pandas as pd\n",
    "from pathlib import Path\n",
    "from tqdm import tqdm"
   ]
  },
  {
   "cell_type": "code",
   "execution_count": 5,
   "metadata": {},
   "outputs": [
    {
     "data": {
      "text/html": [
       "<div>\n",
       "<style scoped>\n",
       "    .dataframe tbody tr th:only-of-type {\n",
       "        vertical-align: middle;\n",
       "    }\n",
       "\n",
       "    .dataframe tbody tr th {\n",
       "        vertical-align: top;\n",
       "    }\n",
       "\n",
       "    .dataframe thead th {\n",
       "        text-align: right;\n",
       "    }\n",
       "</style>\n",
       "<table border=\"1\" class=\"dataframe\">\n",
       "  <thead>\n",
       "    <tr style=\"text-align: right;\">\n",
       "      <th></th>\n",
       "      <th>Image_Label</th>\n",
       "      <th>EncodedPixels</th>\n",
       "    </tr>\n",
       "  </thead>\n",
       "  <tbody>\n",
       "    <tr>\n",
       "      <th>0</th>\n",
       "      <td>002f507.jpg_Fish</td>\n",
       "      <td>1 1</td>\n",
       "    </tr>\n",
       "    <tr>\n",
       "      <th>1</th>\n",
       "      <td>002f507.jpg_Flower</td>\n",
       "      <td>1 1</td>\n",
       "    </tr>\n",
       "    <tr>\n",
       "      <th>2</th>\n",
       "      <td>002f507.jpg_Gravel</td>\n",
       "      <td>1 1</td>\n",
       "    </tr>\n",
       "    <tr>\n",
       "      <th>3</th>\n",
       "      <td>002f507.jpg_Sugar</td>\n",
       "      <td>1 1</td>\n",
       "    </tr>\n",
       "    <tr>\n",
       "      <th>4</th>\n",
       "      <td>0035ae9.jpg_Fish</td>\n",
       "      <td>1 1</td>\n",
       "    </tr>\n",
       "    <tr>\n",
       "      <th>5</th>\n",
       "      <td>0035ae9.jpg_Flower</td>\n",
       "      <td>1 1</td>\n",
       "    </tr>\n",
       "    <tr>\n",
       "      <th>6</th>\n",
       "      <td>0035ae9.jpg_Gravel</td>\n",
       "      <td>1 1</td>\n",
       "    </tr>\n",
       "    <tr>\n",
       "      <th>7</th>\n",
       "      <td>0035ae9.jpg_Sugar</td>\n",
       "      <td>1 1</td>\n",
       "    </tr>\n",
       "    <tr>\n",
       "      <th>8</th>\n",
       "      <td>0038327.jpg_Fish</td>\n",
       "      <td>1 1</td>\n",
       "    </tr>\n",
       "    <tr>\n",
       "      <th>9</th>\n",
       "      <td>0038327.jpg_Flower</td>\n",
       "      <td>1 1</td>\n",
       "    </tr>\n",
       "  </tbody>\n",
       "</table>\n",
       "</div>"
      ],
      "text/plain": [
       "          Image_Label EncodedPixels\n",
       "0    002f507.jpg_Fish           1 1\n",
       "1  002f507.jpg_Flower           1 1\n",
       "2  002f507.jpg_Gravel           1 1\n",
       "3   002f507.jpg_Sugar           1 1\n",
       "4    0035ae9.jpg_Fish           1 1\n",
       "5  0035ae9.jpg_Flower           1 1\n",
       "6  0035ae9.jpg_Gravel           1 1\n",
       "7   0035ae9.jpg_Sugar           1 1\n",
       "8    0038327.jpg_Fish           1 1\n",
       "9  0038327.jpg_Flower           1 1"
      ]
     },
     "execution_count": 5,
     "metadata": {},
     "output_type": "execute_result"
    }
   ],
   "source": [
    "df_sample = pd.read_csv('../data/raw/sample_submission.csv')\n",
    "df_sample.head(10)"
   ]
  },
  {
   "cell_type": "code",
   "execution_count": 6,
   "metadata": {},
   "outputs": [
    {
     "data": {
      "text/plain": [
       "[PosixPath('../data/raw/gibs/2002-01-01_domain_a_MODIS_Terra_CorrectedReflectance_TrueColor.jpg'),\n",
       " PosixPath('../data/raw/gibs/2002-01-01_domain_b_MODIS_Terra_CorrectedReflectance_TrueColor.jpg'),\n",
       " PosixPath('../data/raw/gibs/2002-01-01_domain_c_MODIS_Terra_CorrectedReflectance_TrueColor.jpg'),\n",
       " PosixPath('../data/raw/gibs/2002-01-02_domain_a_MODIS_Terra_CorrectedReflectance_TrueColor.jpg'),\n",
       " PosixPath('../data/raw/gibs/2002-01-02_domain_b_MODIS_Terra_CorrectedReflectance_TrueColor.jpg'),\n",
       " PosixPath('../data/raw/gibs/2002-01-02_domain_c_MODIS_Terra_CorrectedReflectance_TrueColor.jpg'),\n",
       " PosixPath('../data/raw/gibs/2002-01-03_domain_a_MODIS_Terra_CorrectedReflectance_TrueColor.jpg'),\n",
       " PosixPath('../data/raw/gibs/2002-01-03_domain_b_MODIS_Terra_CorrectedReflectance_TrueColor.jpg'),\n",
       " PosixPath('../data/raw/gibs/2002-01-03_domain_c_MODIS_Terra_CorrectedReflectance_TrueColor.jpg'),\n",
       " PosixPath('../data/raw/gibs/2002-01-04_domain_a_MODIS_Terra_CorrectedReflectance_TrueColor.jpg')]"
      ]
     },
     "execution_count": 6,
     "metadata": {},
     "output_type": "execute_result"
    }
   ],
   "source": [
    "gibs_filenames = sorted(list(Path('../data/raw/gibs').glob('*.jpg')))\n",
    "gibs_filenames[:10]"
   ]
  },
  {
   "cell_type": "code",
   "execution_count": 13,
   "metadata": {},
   "outputs": [],
   "source": [
    "names = [f.name for f in gibs_filenames]\n",
    "labels = []\n",
    "for n in names:\n",
    "    for label in ['Fish', 'Flower', 'Gravel', 'Sugar']:\n",
    "        labels.append(f'{n.replace(\"_\", \"-\")}_{label}')"
   ]
  },
  {
   "cell_type": "code",
   "execution_count": 14,
   "metadata": {},
   "outputs": [
    {
     "data": {
      "text/html": [
       "<div>\n",
       "<style scoped>\n",
       "    .dataframe tbody tr th:only-of-type {\n",
       "        vertical-align: middle;\n",
       "    }\n",
       "\n",
       "    .dataframe tbody tr th {\n",
       "        vertical-align: top;\n",
       "    }\n",
       "\n",
       "    .dataframe thead th {\n",
       "        text-align: right;\n",
       "    }\n",
       "</style>\n",
       "<table border=\"1\" class=\"dataframe\">\n",
       "  <thead>\n",
       "    <tr style=\"text-align: right;\">\n",
       "      <th></th>\n",
       "      <th>Image_Label</th>\n",
       "      <th>EncodedPixels</th>\n",
       "    </tr>\n",
       "  </thead>\n",
       "  <tbody>\n",
       "    <tr>\n",
       "      <th>0</th>\n",
       "      <td>2002-01-01-domain-a-MODIS-Terra-CorrectedRefle...</td>\n",
       "      <td>1 1</td>\n",
       "    </tr>\n",
       "    <tr>\n",
       "      <th>1</th>\n",
       "      <td>2002-01-01-domain-a-MODIS-Terra-CorrectedRefle...</td>\n",
       "      <td>1 1</td>\n",
       "    </tr>\n",
       "    <tr>\n",
       "      <th>2</th>\n",
       "      <td>2002-01-01-domain-a-MODIS-Terra-CorrectedRefle...</td>\n",
       "      <td>1 1</td>\n",
       "    </tr>\n",
       "    <tr>\n",
       "      <th>3</th>\n",
       "      <td>2002-01-01-domain-a-MODIS-Terra-CorrectedRefle...</td>\n",
       "      <td>1 1</td>\n",
       "    </tr>\n",
       "    <tr>\n",
       "      <th>4</th>\n",
       "      <td>2002-01-01-domain-b-MODIS-Terra-CorrectedRefle...</td>\n",
       "      <td>1 1</td>\n",
       "    </tr>\n",
       "    <tr>\n",
       "      <th>5</th>\n",
       "      <td>2002-01-01-domain-b-MODIS-Terra-CorrectedRefle...</td>\n",
       "      <td>1 1</td>\n",
       "    </tr>\n",
       "    <tr>\n",
       "      <th>6</th>\n",
       "      <td>2002-01-01-domain-b-MODIS-Terra-CorrectedRefle...</td>\n",
       "      <td>1 1</td>\n",
       "    </tr>\n",
       "    <tr>\n",
       "      <th>7</th>\n",
       "      <td>2002-01-01-domain-b-MODIS-Terra-CorrectedRefle...</td>\n",
       "      <td>1 1</td>\n",
       "    </tr>\n",
       "    <tr>\n",
       "      <th>8</th>\n",
       "      <td>2002-01-01-domain-c-MODIS-Terra-CorrectedRefle...</td>\n",
       "      <td>1 1</td>\n",
       "    </tr>\n",
       "    <tr>\n",
       "      <th>9</th>\n",
       "      <td>2002-01-01-domain-c-MODIS-Terra-CorrectedRefle...</td>\n",
       "      <td>1 1</td>\n",
       "    </tr>\n",
       "  </tbody>\n",
       "</table>\n",
       "</div>"
      ],
      "text/plain": [
       "                                         Image_Label EncodedPixels\n",
       "0  2002-01-01-domain-a-MODIS-Terra-CorrectedRefle...           1 1\n",
       "1  2002-01-01-domain-a-MODIS-Terra-CorrectedRefle...           1 1\n",
       "2  2002-01-01-domain-a-MODIS-Terra-CorrectedRefle...           1 1\n",
       "3  2002-01-01-domain-a-MODIS-Terra-CorrectedRefle...           1 1\n",
       "4  2002-01-01-domain-b-MODIS-Terra-CorrectedRefle...           1 1\n",
       "5  2002-01-01-domain-b-MODIS-Terra-CorrectedRefle...           1 1\n",
       "6  2002-01-01-domain-b-MODIS-Terra-CorrectedRefle...           1 1\n",
       "7  2002-01-01-domain-b-MODIS-Terra-CorrectedRefle...           1 1\n",
       "8  2002-01-01-domain-c-MODIS-Terra-CorrectedRefle...           1 1\n",
       "9  2002-01-01-domain-c-MODIS-Terra-CorrectedRefle...           1 1"
      ]
     },
     "execution_count": 14,
     "metadata": {},
     "output_type": "execute_result"
    }
   ],
   "source": [
    "df_gibs = pd.DataFrame({'Image_Label': labels})\n",
    "df_gibs['EncodedPixels'] = '1 1'\n",
    "df_gibs.head(10)"
   ]
  },
  {
   "cell_type": "code",
   "execution_count": 15,
   "metadata": {},
   "outputs": [],
   "source": [
    "df_gibs.to_csv('../data/raw/gibs.csv', index=False)"
   ]
  },
  {
   "cell_type": "code",
   "execution_count": 7,
   "metadata": {},
   "outputs": [
    {
     "name": "stderr",
     "output_type": "stream",
     "text": [
      "100%|██████████| 4211/4211 [02:02<00:00, 34.31it/s]\n"
     ]
    }
   ],
   "source": [
    "for f in tqdm(gibs_filenames):\n",
    "    try:\n",
    "        img = cv2.imread(str(f))\n",
    "        img = cv2.cvtColor(img, cv2.COLOR_BGR2RGB)\n",
    "    except Exception as ex:\n",
    "        print(f'{f}: {ex}')"
   ]
  },
  {
   "cell_type": "code",
   "execution_count": 16,
   "metadata": {},
   "outputs": [
    {
     "data": {
      "text/html": [
       "<div>\n",
       "<style scoped>\n",
       "    .dataframe tbody tr th:only-of-type {\n",
       "        vertical-align: middle;\n",
       "    }\n",
       "\n",
       "    .dataframe tbody tr th {\n",
       "        vertical-align: top;\n",
       "    }\n",
       "\n",
       "    .dataframe thead th {\n",
       "        text-align: right;\n",
       "    }\n",
       "</style>\n",
       "<table border=\"1\" class=\"dataframe\">\n",
       "  <thead>\n",
       "    <tr style=\"text-align: right;\">\n",
       "      <th></th>\n",
       "      <th>Image_Label</th>\n",
       "      <th>EncodedPixels</th>\n",
       "    </tr>\n",
       "  </thead>\n",
       "  <tbody>\n",
       "    <tr>\n",
       "      <th>0</th>\n",
       "      <td>2002-01-01-domain-a-MODIS-Terra-CorrectedRefle...</td>\n",
       "      <td>1 1</td>\n",
       "    </tr>\n",
       "    <tr>\n",
       "      <th>1</th>\n",
       "      <td>2002-01-01-domain-a-MODIS-Terra-CorrectedRefle...</td>\n",
       "      <td>1 1</td>\n",
       "    </tr>\n",
       "  </tbody>\n",
       "</table>\n",
       "</div>"
      ],
      "text/plain": [
       "                                         Image_Label EncodedPixels\n",
       "0  2002-01-01-domain-a-MODIS-Terra-CorrectedRefle...           1 1\n",
       "1  2002-01-01-domain-a-MODIS-Terra-CorrectedRefle...           1 1"
      ]
     },
     "execution_count": 16,
     "metadata": {},
     "output_type": "execute_result"
    }
   ],
   "source": [
    "df = pd.read_csv('../data/raw/gibs.csv')\n",
    "df.head(2)"
   ]
  },
  {
   "cell_type": "code",
   "execution_count": 17,
   "metadata": {},
   "outputs": [
    {
     "data": {
      "text/plain": [
       "'2002-01-01-domain-a-MODIS-Terra-CorrectedReflectance-TrueColor.jpg_Fish'"
      ]
     },
     "execution_count": 17,
     "metadata": {},
     "output_type": "execute_result"
    }
   ],
   "source": [
    "df.iloc[0]['Image_Label']"
   ]
  },
  {
   "cell_type": "code",
   "execution_count": 18,
   "metadata": {},
   "outputs": [
    {
     "name": "stderr",
     "output_type": "stream",
     "text": [
      "100%|██████████| 4211/4211 [00:00<00:00, 36800.27it/s]\n"
     ]
    }
   ],
   "source": [
    "import shutil\n",
    "for f in tqdm(gibs_filenames):\n",
    "    shutil.move(f, str(f).replace('_', '-'))"
   ]
  },
  {
   "cell_type": "code",
   "execution_count": null,
   "metadata": {},
   "outputs": [],
   "source": []
  }
 ],
 "metadata": {
  "kernelspec": {
   "display_name": "Python 3",
   "language": "python",
   "name": "python3"
  },
  "language_info": {
   "codemirror_mode": {
    "name": "ipython",
    "version": 3
   },
   "file_extension": ".py",
   "mimetype": "text/x-python",
   "name": "python",
   "nbconvert_exporter": "python",
   "pygments_lexer": "ipython3",
   "version": "3.7.3"
  }
 },
 "nbformat": 4,
 "nbformat_minor": 2
}
