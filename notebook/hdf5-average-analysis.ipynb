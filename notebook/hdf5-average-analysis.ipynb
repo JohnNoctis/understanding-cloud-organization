{
 "cells": [
  {
   "cell_type": "code",
   "execution_count": 1,
   "metadata": {},
   "outputs": [],
   "source": [
    "%load_ext autoreload\n",
    "%autoreload 2\n",
    "%matplotlib inline"
   ]
  },
  {
   "cell_type": "code",
   "execution_count": 2,
   "metadata": {},
   "outputs": [],
   "source": [
    "import pandas as pd\n",
    "import numpy as np\n",
    "import matplotlib.pyplot as plt\n",
    "import h5py\n",
    "import cv2\n",
    "from scipy.stats import rankdata\n",
    "from tqdm import tqdm\n",
    "from pathlib import Path\n",
    "from uco.data_loader import pivot_df"
   ]
  },
  {
   "cell_type": "code",
   "execution_count": 3,
   "metadata": {},
   "outputs": [],
   "source": [
    "N = 3698\n",
    "C = 4\n",
    "H = 350\n",
    "W = 525\n",
    "ds_name = 'average'"
   ]
  },
  {
   "cell_type": "code",
   "execution_count": 4,
   "metadata": {},
   "outputs": [],
   "source": [
    "def read(f):\n",
    "    path = Path('../data/raw/test_images') / f\n",
    "    img = cv2.imread(str(path))\n",
    "    img = cv2.cvtColor(img, cv2.COLOR_BGR2RGB)\n",
    "    return img"
   ]
  },
  {
   "cell_type": "code",
   "execution_count": null,
   "metadata": {},
   "outputs": [],
   "source": [
    "df = pd.read_csv('../data/raw/sample_submission.csv')\n",
    "idx = np.random.choice(np.arange(df.shape[0] // 4))\n",
    "with h5py.File('../data/predictions/avg-seg-predictions.h5', 'r') as f:\n",
    "    p = f[ds_name][idx, :, :, :]\n",
    "img_filename = df.iloc[idx * 4]['Image_Label'].split('_')[0]\n",
    "img = read(img_filename)\n",
    "fig, axs = plt.subplots(1, 5, figsize=(40, 12))\n",
    "axs[0].imshow(img)\n",
    "axs[1].imshow(p[0, :, :])\n",
    "axs[2].imshow(p[1, :, :])\n",
    "axs[3].imshow(p[2, :, :])\n",
    "axs[4].imshow(p[3, :, :])\n",
    "plt.show()"
   ]
  },
  {
   "cell_type": "code",
   "execution_count": 5,
   "metadata": {},
   "outputs": [],
   "source": [
    "def get_df():\n",
    "    df = pd.read_csv('../data/raw/gibs.csv')\n",
    "    df = pivot_df(df).reset_index()[['Image']]\n",
    "    return df"
   ]
  },
  {
   "cell_type": "code",
   "execution_count": 22,
   "metadata": {},
   "outputs": [
    {
     "name": "stderr",
     "output_type": "stream",
     "text": [
      "  9%|▉         | 1/11 [00:05<00:55,  5.57s/it]"
     ]
    },
    {
     "name": "stdout",
     "output_type": "stream",
     "text": [
      "(4211,)\n"
     ]
    },
    {
     "name": "stderr",
     "output_type": "stream",
     "text": [
      "\r",
      " 18%|█▊        | 2/11 [00:10<00:48,  5.43s/it]"
     ]
    },
    {
     "name": "stdout",
     "output_type": "stream",
     "text": [
      "(4211,)\n"
     ]
    },
    {
     "name": "stderr",
     "output_type": "stream",
     "text": [
      "\r",
      " 27%|██▋       | 3/11 [00:16<00:43,  5.46s/it]"
     ]
    },
    {
     "name": "stdout",
     "output_type": "stream",
     "text": [
      "(4211,)\n"
     ]
    },
    {
     "name": "stderr",
     "output_type": "stream",
     "text": [
      "\r",
      " 36%|███▋      | 4/11 [00:21<00:37,  5.37s/it]"
     ]
    },
    {
     "name": "stdout",
     "output_type": "stream",
     "text": [
      "(4211,)\n"
     ]
    },
    {
     "name": "stderr",
     "output_type": "stream",
     "text": [
      "\r",
      " 45%|████▌     | 5/11 [00:26<00:32,  5.42s/it]"
     ]
    },
    {
     "name": "stdout",
     "output_type": "stream",
     "text": [
      "(4211,)\n"
     ]
    },
    {
     "name": "stderr",
     "output_type": "stream",
     "text": [
      "\r",
      " 55%|█████▍    | 6/11 [00:32<00:27,  5.50s/it]"
     ]
    },
    {
     "name": "stdout",
     "output_type": "stream",
     "text": [
      "(4211,)\n"
     ]
    },
    {
     "name": "stderr",
     "output_type": "stream",
     "text": [
      "\r",
      " 64%|██████▎   | 7/11 [00:38<00:22,  5.54s/it]"
     ]
    },
    {
     "name": "stdout",
     "output_type": "stream",
     "text": [
      "(4211,)\n"
     ]
    },
    {
     "name": "stderr",
     "output_type": "stream",
     "text": [
      "\r",
      " 73%|███████▎  | 8/11 [00:43<00:16,  5.49s/it]"
     ]
    },
    {
     "name": "stdout",
     "output_type": "stream",
     "text": [
      "(4211,)\n"
     ]
    },
    {
     "name": "stderr",
     "output_type": "stream",
     "text": [
      "\r",
      " 82%|████████▏ | 9/11 [00:49<00:11,  5.59s/it]"
     ]
    },
    {
     "name": "stdout",
     "output_type": "stream",
     "text": [
      "(4211,)\n"
     ]
    },
    {
     "name": "stderr",
     "output_type": "stream",
     "text": [
      "\r",
      " 91%|█████████ | 10/11 [00:54<00:05,  5.42s/it]"
     ]
    },
    {
     "name": "stdout",
     "output_type": "stream",
     "text": [
      "(4211,)\n"
     ]
    },
    {
     "name": "stderr",
     "output_type": "stream",
     "text": [
      "100%|██████████| 11/11 [00:58<00:00,  5.33s/it]\n",
      "  0%|          | 0/11 [00:00<?, ?it/s]"
     ]
    },
    {
     "name": "stdout",
     "output_type": "stream",
     "text": [
      "(4211,)\n"
     ]
    },
    {
     "name": "stderr",
     "output_type": "stream",
     "text": [
      "\r",
      "  9%|▉         | 1/11 [00:05<00:53,  5.37s/it]"
     ]
    },
    {
     "name": "stdout",
     "output_type": "stream",
     "text": [
      "(4211,)\n"
     ]
    },
    {
     "name": "stderr",
     "output_type": "stream",
     "text": [
      "\r",
      " 18%|█▊        | 2/11 [00:10<00:48,  5.36s/it]"
     ]
    },
    {
     "name": "stdout",
     "output_type": "stream",
     "text": [
      "(4211,)\n"
     ]
    },
    {
     "name": "stderr",
     "output_type": "stream",
     "text": [
      "\r",
      " 27%|██▋       | 3/11 [00:15<00:42,  5.31s/it]"
     ]
    },
    {
     "name": "stdout",
     "output_type": "stream",
     "text": [
      "(4211,)\n"
     ]
    },
    {
     "name": "stderr",
     "output_type": "stream",
     "text": [
      "\r",
      " 36%|███▋      | 4/11 [00:21<00:37,  5.30s/it]"
     ]
    },
    {
     "name": "stdout",
     "output_type": "stream",
     "text": [
      "(4211,)\n"
     ]
    },
    {
     "name": "stderr",
     "output_type": "stream",
     "text": [
      "\r",
      " 45%|████▌     | 5/11 [00:26<00:31,  5.27s/it]"
     ]
    },
    {
     "name": "stdout",
     "output_type": "stream",
     "text": [
      "(4211,)\n"
     ]
    },
    {
     "name": "stderr",
     "output_type": "stream",
     "text": [
      "\r",
      " 55%|█████▍    | 6/11 [00:31<00:26,  5.27s/it]"
     ]
    },
    {
     "name": "stdout",
     "output_type": "stream",
     "text": [
      "(4211,)\n"
     ]
    },
    {
     "name": "stderr",
     "output_type": "stream",
     "text": [
      "\r",
      " 64%|██████▎   | 7/11 [00:36<00:21,  5.28s/it]"
     ]
    },
    {
     "name": "stdout",
     "output_type": "stream",
     "text": [
      "(4211,)\n"
     ]
    },
    {
     "name": "stderr",
     "output_type": "stream",
     "text": [
      "\r",
      " 73%|███████▎  | 8/11 [00:42<00:15,  5.29s/it]"
     ]
    },
    {
     "name": "stdout",
     "output_type": "stream",
     "text": [
      "(4211,)\n"
     ]
    },
    {
     "name": "stderr",
     "output_type": "stream",
     "text": [
      "\r",
      " 82%|████████▏ | 9/11 [00:47<00:10,  5.28s/it]"
     ]
    },
    {
     "name": "stdout",
     "output_type": "stream",
     "text": [
      "(4211,)\n"
     ]
    },
    {
     "name": "stderr",
     "output_type": "stream",
     "text": [
      "\r",
      " 91%|█████████ | 10/11 [00:52<00:05,  5.24s/it]"
     ]
    },
    {
     "name": "stdout",
     "output_type": "stream",
     "text": [
      "(4211,)\n"
     ]
    },
    {
     "name": "stderr",
     "output_type": "stream",
     "text": [
      "100%|██████████| 11/11 [00:56<00:00,  5.16s/it]\n",
      "  0%|          | 0/11 [00:00<?, ?it/s]"
     ]
    },
    {
     "name": "stdout",
     "output_type": "stream",
     "text": [
      "(4211,)\n"
     ]
    },
    {
     "name": "stderr",
     "output_type": "stream",
     "text": [
      "\r",
      "  9%|▉         | 1/11 [00:05<00:53,  5.34s/it]"
     ]
    },
    {
     "name": "stdout",
     "output_type": "stream",
     "text": [
      "(4211,)\n"
     ]
    },
    {
     "name": "stderr",
     "output_type": "stream",
     "text": [
      "\r",
      " 18%|█▊        | 2/11 [00:10<00:47,  5.32s/it]"
     ]
    },
    {
     "name": "stdout",
     "output_type": "stream",
     "text": [
      "(4211,)\n"
     ]
    },
    {
     "name": "stderr",
     "output_type": "stream",
     "text": [
      "\r",
      " 27%|██▋       | 3/11 [00:15<00:42,  5.28s/it]"
     ]
    },
    {
     "name": "stdout",
     "output_type": "stream",
     "text": [
      "(4211,)\n"
     ]
    },
    {
     "name": "stderr",
     "output_type": "stream",
     "text": [
      "\r",
      " 36%|███▋      | 4/11 [00:21<00:37,  5.29s/it]"
     ]
    },
    {
     "name": "stdout",
     "output_type": "stream",
     "text": [
      "(4211,)\n"
     ]
    },
    {
     "name": "stderr",
     "output_type": "stream",
     "text": [
      "\r",
      " 45%|████▌     | 5/11 [00:26<00:31,  5.30s/it]"
     ]
    },
    {
     "name": "stdout",
     "output_type": "stream",
     "text": [
      "(4211,)\n"
     ]
    },
    {
     "name": "stderr",
     "output_type": "stream",
     "text": [
      "\r",
      " 55%|█████▍    | 6/11 [00:31<00:26,  5.30s/it]"
     ]
    },
    {
     "name": "stdout",
     "output_type": "stream",
     "text": [
      "(4211,)\n"
     ]
    },
    {
     "name": "stderr",
     "output_type": "stream",
     "text": [
      "\r",
      " 64%|██████▎   | 7/11 [00:37<00:21,  5.32s/it]"
     ]
    },
    {
     "name": "stdout",
     "output_type": "stream",
     "text": [
      "(4211,)\n"
     ]
    },
    {
     "name": "stderr",
     "output_type": "stream",
     "text": [
      "\r",
      " 73%|███████▎  | 8/11 [00:42<00:16,  5.34s/it]"
     ]
    },
    {
     "name": "stdout",
     "output_type": "stream",
     "text": [
      "(4211,)\n"
     ]
    },
    {
     "name": "stderr",
     "output_type": "stream",
     "text": [
      "\r",
      " 82%|████████▏ | 9/11 [00:47<00:10,  5.32s/it]"
     ]
    },
    {
     "name": "stdout",
     "output_type": "stream",
     "text": [
      "(4211,)\n"
     ]
    },
    {
     "name": "stderr",
     "output_type": "stream",
     "text": [
      "\r",
      " 91%|█████████ | 10/11 [00:52<00:05,  5.24s/it]"
     ]
    },
    {
     "name": "stdout",
     "output_type": "stream",
     "text": [
      "(4211,)\n"
     ]
    },
    {
     "name": "stderr",
     "output_type": "stream",
     "text": [
      "100%|██████████| 11/11 [00:56<00:00,  5.16s/it]\n",
      "  0%|          | 0/11 [00:00<?, ?it/s]"
     ]
    },
    {
     "name": "stdout",
     "output_type": "stream",
     "text": [
      "(4211,)\n"
     ]
    },
    {
     "name": "stderr",
     "output_type": "stream",
     "text": [
      "\r",
      "  9%|▉         | 1/11 [00:05<00:51,  5.19s/it]"
     ]
    },
    {
     "name": "stdout",
     "output_type": "stream",
     "text": [
      "(4211,)\n"
     ]
    },
    {
     "name": "stderr",
     "output_type": "stream",
     "text": [
      "\r",
      " 18%|█▊        | 2/11 [00:10<00:47,  5.24s/it]"
     ]
    },
    {
     "name": "stdout",
     "output_type": "stream",
     "text": [
      "(4211,)\n"
     ]
    },
    {
     "name": "stderr",
     "output_type": "stream",
     "text": [
      "\r",
      " 27%|██▋       | 3/11 [00:16<00:42,  5.32s/it]"
     ]
    },
    {
     "name": "stdout",
     "output_type": "stream",
     "text": [
      "(4211,)\n"
     ]
    },
    {
     "name": "stderr",
     "output_type": "stream",
     "text": [
      "\r",
      " 36%|███▋      | 4/11 [00:21<00:37,  5.31s/it]"
     ]
    },
    {
     "name": "stdout",
     "output_type": "stream",
     "text": [
      "(4211,)\n"
     ]
    },
    {
     "name": "stderr",
     "output_type": "stream",
     "text": [
      "\r",
      " 45%|████▌     | 5/11 [00:26<00:31,  5.26s/it]"
     ]
    },
    {
     "name": "stdout",
     "output_type": "stream",
     "text": [
      "(4211,)\n"
     ]
    },
    {
     "name": "stderr",
     "output_type": "stream",
     "text": [
      "\r",
      " 55%|█████▍    | 6/11 [00:31<00:26,  5.28s/it]"
     ]
    },
    {
     "name": "stdout",
     "output_type": "stream",
     "text": [
      "(4211,)\n"
     ]
    },
    {
     "name": "stderr",
     "output_type": "stream",
     "text": [
      "\r",
      " 64%|██████▎   | 7/11 [00:37<00:21,  5.28s/it]"
     ]
    },
    {
     "name": "stdout",
     "output_type": "stream",
     "text": [
      "(4211,)\n"
     ]
    },
    {
     "name": "stderr",
     "output_type": "stream",
     "text": [
      "\r",
      " 73%|███████▎  | 8/11 [00:43<00:16,  5.47s/it]"
     ]
    },
    {
     "name": "stdout",
     "output_type": "stream",
     "text": [
      "(4211,)\n"
     ]
    },
    {
     "name": "stderr",
     "output_type": "stream",
     "text": [
      "\r",
      " 82%|████████▏ | 9/11 [00:48<00:10,  5.49s/it]"
     ]
    },
    {
     "name": "stdout",
     "output_type": "stream",
     "text": [
      "(4211,)\n"
     ]
    },
    {
     "name": "stderr",
     "output_type": "stream",
     "text": [
      "\r",
      " 91%|█████████ | 10/11 [00:53<00:05,  5.47s/it]"
     ]
    },
    {
     "name": "stdout",
     "output_type": "stream",
     "text": [
      "(4211,)\n"
     ]
    },
    {
     "name": "stderr",
     "output_type": "stream",
     "text": [
      "100%|██████████| 11/11 [00:57<00:00,  5.27s/it]"
     ]
    },
    {
     "name": "stdout",
     "output_type": "stream",
     "text": [
      "(4211,)\n"
     ]
    },
    {
     "name": "stderr",
     "output_type": "stream",
     "text": [
      "\n"
     ]
    }
   ],
   "source": [
    "with h5py.File('../data/original/avg-seg-predictions.h5', 'r') as f:\n",
    "    group_names = [k for k in f.keys() if k != 'average']\n",
    "    for c in range(4):\n",
    "        df = get_df()\n",
    "        for k in tqdm(group_names):\n",
    "            preds = f[k][:, c, :, :]\n",
    "            totals = np.sum(preds, axis=1)\n",
    "            totals = np.sum(totals, axis=1)\n",
    "            print(totals.shape)\n",
    "            ranks = rankdata(totals)\n",
    "            df[k] = ranks\n",
    "        df.to_csv(f'pseudo-ranks-class-{c}.csv', index=False)"
   ]
  },
  {
   "cell_type": "code",
   "execution_count": null,
   "metadata": {},
   "outputs": [],
   "source": [
    "with h5py.File('../data/pseudo/avg-seg-predictions.h5', 'r') as f:\n",
    "    for c in range(4):\n",
    "        df = get_df()\n",
    "        preds = f[k][:, c, :, :]\n",
    "        totals = np.sum(preds, axis=1)\n",
    "        totals = np.sum(totals, axis=1)\n",
    "        print(totals.shape)\n",
    "        ranks = rankdata(totals)\n",
    "        df[k] = ranks\n",
    "        df.to_csv(f'pseudo-ranks-class-{c}.csv', index=False)"
   ]
  },
  {
   "cell_type": "code",
   "execution_count": 27,
   "metadata": {},
   "outputs": [
    {
     "data": {
      "text/html": [
       "<div>\n",
       "<style scoped>\n",
       "    .dataframe tbody tr th:only-of-type {\n",
       "        vertical-align: middle;\n",
       "    }\n",
       "\n",
       "    .dataframe tbody tr th {\n",
       "        vertical-align: top;\n",
       "    }\n",
       "\n",
       "    .dataframe thead th {\n",
       "        text-align: right;\n",
       "    }\n",
       "</style>\n",
       "<table border=\"1\" class=\"dataframe\">\n",
       "  <thead>\n",
       "    <tr style=\"text-align: right;\">\n",
       "      <th></th>\n",
       "      <th>deeplabv3_resnet101-DeepLabV3</th>\n",
       "      <th>efficientnet-b0-FPN</th>\n",
       "      <th>efficientnet-b0-Unet</th>\n",
       "      <th>efficientnet-b2-FPN</th>\n",
       "      <th>efficientnet-b2-Unet</th>\n",
       "      <th>efficientnet-b5-FPN</th>\n",
       "      <th>efficientnet-b5-Unet</th>\n",
       "      <th>efficientnet-b6-FPN</th>\n",
       "      <th>inceptionresnetv2-Unet</th>\n",
       "      <th>resnext101_32x8d-FPN</th>\n",
       "      <th>resnext101_32x8d-Unet</th>\n",
       "    </tr>\n",
       "    <tr>\n",
       "      <th>Image</th>\n",
       "      <th></th>\n",
       "      <th></th>\n",
       "      <th></th>\n",
       "      <th></th>\n",
       "      <th></th>\n",
       "      <th></th>\n",
       "      <th></th>\n",
       "      <th></th>\n",
       "      <th></th>\n",
       "      <th></th>\n",
       "      <th></th>\n",
       "    </tr>\n",
       "  </thead>\n",
       "  <tbody>\n",
       "    <tr>\n",
       "      <th>2002-01-01-domain-a-MODIS-Terra-CorrectedReflectance-TrueColor.jpg</th>\n",
       "      <td>3912.0</td>\n",
       "      <td>4019.0</td>\n",
       "      <td>4048.0</td>\n",
       "      <td>4027.0</td>\n",
       "      <td>3900.0</td>\n",
       "      <td>4041.0</td>\n",
       "      <td>4110.0</td>\n",
       "      <td>3941.0</td>\n",
       "      <td>4129.0</td>\n",
       "      <td>4017.0</td>\n",
       "      <td>4050.0</td>\n",
       "    </tr>\n",
       "    <tr>\n",
       "      <th>2002-01-01-domain-b-MODIS-Terra-CorrectedReflectance-TrueColor.jpg</th>\n",
       "      <td>3536.0</td>\n",
       "      <td>3550.0</td>\n",
       "      <td>3437.0</td>\n",
       "      <td>3547.0</td>\n",
       "      <td>3394.0</td>\n",
       "      <td>3577.0</td>\n",
       "      <td>3624.0</td>\n",
       "      <td>3458.0</td>\n",
       "      <td>2952.0</td>\n",
       "      <td>3796.0</td>\n",
       "      <td>3752.0</td>\n",
       "    </tr>\n",
       "  </tbody>\n",
       "</table>\n",
       "</div>"
      ],
      "text/plain": [
       "                                                    deeplabv3_resnet101-DeepLabV3  \\\n",
       "Image                                                                               \n",
       "2002-01-01-domain-a-MODIS-Terra-CorrectedReflec...                         3912.0   \n",
       "2002-01-01-domain-b-MODIS-Terra-CorrectedReflec...                         3536.0   \n",
       "\n",
       "                                                    efficientnet-b0-FPN  \\\n",
       "Image                                                                     \n",
       "2002-01-01-domain-a-MODIS-Terra-CorrectedReflec...               4019.0   \n",
       "2002-01-01-domain-b-MODIS-Terra-CorrectedReflec...               3550.0   \n",
       "\n",
       "                                                    efficientnet-b0-Unet  \\\n",
       "Image                                                                      \n",
       "2002-01-01-domain-a-MODIS-Terra-CorrectedReflec...                4048.0   \n",
       "2002-01-01-domain-b-MODIS-Terra-CorrectedReflec...                3437.0   \n",
       "\n",
       "                                                    efficientnet-b2-FPN  \\\n",
       "Image                                                                     \n",
       "2002-01-01-domain-a-MODIS-Terra-CorrectedReflec...               4027.0   \n",
       "2002-01-01-domain-b-MODIS-Terra-CorrectedReflec...               3547.0   \n",
       "\n",
       "                                                    efficientnet-b2-Unet  \\\n",
       "Image                                                                      \n",
       "2002-01-01-domain-a-MODIS-Terra-CorrectedReflec...                3900.0   \n",
       "2002-01-01-domain-b-MODIS-Terra-CorrectedReflec...                3394.0   \n",
       "\n",
       "                                                    efficientnet-b5-FPN  \\\n",
       "Image                                                                     \n",
       "2002-01-01-domain-a-MODIS-Terra-CorrectedReflec...               4041.0   \n",
       "2002-01-01-domain-b-MODIS-Terra-CorrectedReflec...               3577.0   \n",
       "\n",
       "                                                    efficientnet-b5-Unet  \\\n",
       "Image                                                                      \n",
       "2002-01-01-domain-a-MODIS-Terra-CorrectedReflec...                4110.0   \n",
       "2002-01-01-domain-b-MODIS-Terra-CorrectedReflec...                3624.0   \n",
       "\n",
       "                                                    efficientnet-b6-FPN  \\\n",
       "Image                                                                     \n",
       "2002-01-01-domain-a-MODIS-Terra-CorrectedReflec...               3941.0   \n",
       "2002-01-01-domain-b-MODIS-Terra-CorrectedReflec...               3458.0   \n",
       "\n",
       "                                                    inceptionresnetv2-Unet  \\\n",
       "Image                                                                        \n",
       "2002-01-01-domain-a-MODIS-Terra-CorrectedReflec...                  4129.0   \n",
       "2002-01-01-domain-b-MODIS-Terra-CorrectedReflec...                  2952.0   \n",
       "\n",
       "                                                    resnext101_32x8d-FPN  \\\n",
       "Image                                                                      \n",
       "2002-01-01-domain-a-MODIS-Terra-CorrectedReflec...                4017.0   \n",
       "2002-01-01-domain-b-MODIS-Terra-CorrectedReflec...                3796.0   \n",
       "\n",
       "                                                    resnext101_32x8d-Unet  \n",
       "Image                                                                      \n",
       "2002-01-01-domain-a-MODIS-Terra-CorrectedReflec...                 4050.0  \n",
       "2002-01-01-domain-b-MODIS-Terra-CorrectedReflec...                 3752.0  "
      ]
     },
     "execution_count": 27,
     "metadata": {},
     "output_type": "execute_result"
    }
   ],
   "source": [
    "df_0 = pd.read_csv('pseudo-ranks-class-0.csv').set_index('Image')\n",
    "df_0.head(2)"
   ]
  },
  {
   "cell_type": "code",
   "execution_count": 24,
   "metadata": {},
   "outputs": [
    {
     "data": {
      "text/plain": [
       "deeplabv3_resnet101-DeepLabV3    float64\n",
       "efficientnet-b0-FPN              float64\n",
       "efficientnet-b0-Unet             float64\n",
       "efficientnet-b2-FPN              float64\n",
       "efficientnet-b2-Unet             float64\n",
       "efficientnet-b5-FPN              float64\n",
       "efficientnet-b5-Unet             float64\n",
       "efficientnet-b6-FPN              float64\n",
       "inceptionresnetv2-Unet           float64\n",
       "resnext101_32x8d-FPN             float64\n",
       "resnext101_32x8d-Unet            float64\n",
       "dtype: object"
      ]
     },
     "execution_count": 24,
     "metadata": {},
     "output_type": "execute_result"
    }
   ],
   "source": [
    "df_0.dtypes"
   ]
  },
  {
   "cell_type": "code",
   "execution_count": 25,
   "metadata": {},
   "outputs": [
    {
     "data": {
      "text/html": [
       "<div>\n",
       "<style scoped>\n",
       "    .dataframe tbody tr th:only-of-type {\n",
       "        vertical-align: middle;\n",
       "    }\n",
       "\n",
       "    .dataframe tbody tr th {\n",
       "        vertical-align: top;\n",
       "    }\n",
       "\n",
       "    .dataframe thead th {\n",
       "        text-align: right;\n",
       "    }\n",
       "</style>\n",
       "<table border=\"1\" class=\"dataframe\">\n",
       "  <thead>\n",
       "    <tr style=\"text-align: right;\">\n",
       "      <th></th>\n",
       "      <th>deeplabv3_resnet101-DeepLabV3</th>\n",
       "      <th>efficientnet-b0-FPN</th>\n",
       "      <th>efficientnet-b0-Unet</th>\n",
       "      <th>efficientnet-b2-FPN</th>\n",
       "      <th>efficientnet-b2-Unet</th>\n",
       "      <th>efficientnet-b5-FPN</th>\n",
       "      <th>efficientnet-b5-Unet</th>\n",
       "      <th>efficientnet-b6-FPN</th>\n",
       "      <th>inceptionresnetv2-Unet</th>\n",
       "      <th>resnext101_32x8d-FPN</th>\n",
       "      <th>resnext101_32x8d-Unet</th>\n",
       "      <th>mean</th>\n",
       "      <th>rank</th>\n",
       "    </tr>\n",
       "    <tr>\n",
       "      <th>Image</th>\n",
       "      <th></th>\n",
       "      <th></th>\n",
       "      <th></th>\n",
       "      <th></th>\n",
       "      <th></th>\n",
       "      <th></th>\n",
       "      <th></th>\n",
       "      <th></th>\n",
       "      <th></th>\n",
       "      <th></th>\n",
       "      <th></th>\n",
       "      <th></th>\n",
       "      <th></th>\n",
       "    </tr>\n",
       "  </thead>\n",
       "  <tbody>\n",
       "    <tr>\n",
       "      <th>2002-01-01-domain-a-MODIS-Terra-CorrectedReflectance-TrueColor.jpg</th>\n",
       "      <td>3912.0</td>\n",
       "      <td>4019.0</td>\n",
       "      <td>4048.0</td>\n",
       "      <td>4027.0</td>\n",
       "      <td>3900.0</td>\n",
       "      <td>4041.0</td>\n",
       "      <td>4110.0</td>\n",
       "      <td>3941.0</td>\n",
       "      <td>4129.0</td>\n",
       "      <td>4017.0</td>\n",
       "      <td>4050.0</td>\n",
       "      <td>4017.636364</td>\n",
       "      <td>4095.0</td>\n",
       "    </tr>\n",
       "    <tr>\n",
       "      <th>2002-01-01-domain-b-MODIS-Terra-CorrectedReflectance-TrueColor.jpg</th>\n",
       "      <td>3536.0</td>\n",
       "      <td>3550.0</td>\n",
       "      <td>3437.0</td>\n",
       "      <td>3547.0</td>\n",
       "      <td>3394.0</td>\n",
       "      <td>3577.0</td>\n",
       "      <td>3624.0</td>\n",
       "      <td>3458.0</td>\n",
       "      <td>2952.0</td>\n",
       "      <td>3796.0</td>\n",
       "      <td>3752.0</td>\n",
       "      <td>3511.181818</td>\n",
       "      <td>3594.0</td>\n",
       "    </tr>\n",
       "  </tbody>\n",
       "</table>\n",
       "</div>"
      ],
      "text/plain": [
       "                                                    deeplabv3_resnet101-DeepLabV3  \\\n",
       "Image                                                                               \n",
       "2002-01-01-domain-a-MODIS-Terra-CorrectedReflec...                         3912.0   \n",
       "2002-01-01-domain-b-MODIS-Terra-CorrectedReflec...                         3536.0   \n",
       "\n",
       "                                                    efficientnet-b0-FPN  \\\n",
       "Image                                                                     \n",
       "2002-01-01-domain-a-MODIS-Terra-CorrectedReflec...               4019.0   \n",
       "2002-01-01-domain-b-MODIS-Terra-CorrectedReflec...               3550.0   \n",
       "\n",
       "                                                    efficientnet-b0-Unet  \\\n",
       "Image                                                                      \n",
       "2002-01-01-domain-a-MODIS-Terra-CorrectedReflec...                4048.0   \n",
       "2002-01-01-domain-b-MODIS-Terra-CorrectedReflec...                3437.0   \n",
       "\n",
       "                                                    efficientnet-b2-FPN  \\\n",
       "Image                                                                     \n",
       "2002-01-01-domain-a-MODIS-Terra-CorrectedReflec...               4027.0   \n",
       "2002-01-01-domain-b-MODIS-Terra-CorrectedReflec...               3547.0   \n",
       "\n",
       "                                                    efficientnet-b2-Unet  \\\n",
       "Image                                                                      \n",
       "2002-01-01-domain-a-MODIS-Terra-CorrectedReflec...                3900.0   \n",
       "2002-01-01-domain-b-MODIS-Terra-CorrectedReflec...                3394.0   \n",
       "\n",
       "                                                    efficientnet-b5-FPN  \\\n",
       "Image                                                                     \n",
       "2002-01-01-domain-a-MODIS-Terra-CorrectedReflec...               4041.0   \n",
       "2002-01-01-domain-b-MODIS-Terra-CorrectedReflec...               3577.0   \n",
       "\n",
       "                                                    efficientnet-b5-Unet  \\\n",
       "Image                                                                      \n",
       "2002-01-01-domain-a-MODIS-Terra-CorrectedReflec...                4110.0   \n",
       "2002-01-01-domain-b-MODIS-Terra-CorrectedReflec...                3624.0   \n",
       "\n",
       "                                                    efficientnet-b6-FPN  \\\n",
       "Image                                                                     \n",
       "2002-01-01-domain-a-MODIS-Terra-CorrectedReflec...               3941.0   \n",
       "2002-01-01-domain-b-MODIS-Terra-CorrectedReflec...               3458.0   \n",
       "\n",
       "                                                    inceptionresnetv2-Unet  \\\n",
       "Image                                                                        \n",
       "2002-01-01-domain-a-MODIS-Terra-CorrectedReflec...                  4129.0   \n",
       "2002-01-01-domain-b-MODIS-Terra-CorrectedReflec...                  2952.0   \n",
       "\n",
       "                                                    resnext101_32x8d-FPN  \\\n",
       "Image                                                                      \n",
       "2002-01-01-domain-a-MODIS-Terra-CorrectedReflec...                4017.0   \n",
       "2002-01-01-domain-b-MODIS-Terra-CorrectedReflec...                3796.0   \n",
       "\n",
       "                                                    resnext101_32x8d-Unet  \\\n",
       "Image                                                                       \n",
       "2002-01-01-domain-a-MODIS-Terra-CorrectedReflec...                 4050.0   \n",
       "2002-01-01-domain-b-MODIS-Terra-CorrectedReflec...                 3752.0   \n",
       "\n",
       "                                                           mean    rank  \n",
       "Image                                                                    \n",
       "2002-01-01-domain-a-MODIS-Terra-CorrectedReflec...  4017.636364  4095.0  \n",
       "2002-01-01-domain-b-MODIS-Terra-CorrectedReflec...  3511.181818  3594.0  "
      ]
     },
     "execution_count": 25,
     "metadata": {},
     "output_type": "execute_result"
    }
   ],
   "source": [
    "df_0['mean'] = df_0.apply(lambda row: row.mean(), axis=1)\n",
    "df_0['rank'] = rankdata(df_0['mean'])\n",
    "df_0.head(2)"
   ]
  },
  {
   "cell_type": "code",
   "execution_count": 21,
   "metadata": {},
   "outputs": [
    {
     "data": {
      "text/plain": [
       "array([3., 1., 2.])"
      ]
     },
     "execution_count": 21,
     "metadata": {},
     "output_type": "execute_result"
    }
   ],
   "source": [
    "rankdata([0.8, 0.2, 0.5], method='average')"
   ]
  },
  {
   "cell_type": "code",
   "execution_count": null,
   "metadata": {},
   "outputs": [],
   "source": [
    "records = []\n",
    "with h5py.File('../data/predictions/avg-clas-predictions.h5', 'r') as f:\n",
    "    for th in tqdm(np.linspace(0.5, 1.0, 51)):\n",
    "        counts = np.zeros((4,))\n",
    "        for n in range(N):\n",
    "            counts += (f[ds_name][n, :] > th).astype(np.uint8)\n",
    "        records.append({\n",
    "            'threshold': th, \n",
    "            'c0': counts[0], \n",
    "            'c1': counts[1],\n",
    "            'c2': counts[2],\n",
    "            'c3': counts[3],\n",
    "        })\n",
    "df_clas = pd.DataFrame.from_records(records)\n",
    "df_clas.head(2)"
   ]
  },
  {
   "cell_type": "code",
   "execution_count": null,
   "metadata": {},
   "outputs": [],
   "source": [
    "df_clas"
   ]
  },
  {
   "cell_type": "code",
   "execution_count": null,
   "metadata": {},
   "outputs": [],
   "source": [
    "df_seg.set_index('threshold').plot.line()"
   ]
  },
  {
   "cell_type": "code",
   "execution_count": null,
   "metadata": {},
   "outputs": [],
   "source": [
    "df_clas.set_index('threshold').plot.line()"
   ]
  },
  {
   "cell_type": "code",
   "execution_count": 44,
   "metadata": {},
   "outputs": [],
   "source": [
    "def compute_threshold(t0, c_factor, classification_output):\n",
    "    \"\"\"\n",
    "    Adjust a threshold based on classification output.\n",
    "\n",
    "    Parameters\n",
    "    ----------\n",
    "    t0 : numeric\n",
    "        The threshold when classifier output is 0.5\n",
    "    c_factor : numeric in range [0, 1]\n",
    "        t0 will be scaled up or down by this factor in proportion to classifier output\n",
    "    classification_output : numeric\n",
    "        The output from a classifier in [0, 1]\n",
    "    \"\"\"\n",
    "    return t0 - t0 * 2 * c_factor * (classification_output - 0.5)"
   ]
  },
  {
   "cell_type": "code",
   "execution_count": 45,
   "metadata": {},
   "outputs": [
    {
     "data": {
      "text/plain": [
       "array([2393.25, 2417.5 , 2254.75, 1971.25])"
      ]
     },
     "execution_count": 45,
     "metadata": {},
     "output_type": "execute_result"
    }
   ],
   "source": [
    "min_sizes = np.array([9573, 9670, 9019, 7885]) / 2\n",
    "c_factor = 0.5\n",
    "classification_output = np.array([1.0] * 4)\n",
    "compute_threshold(\n",
    "    min_sizes,\n",
    "    c_factor,\n",
    "    classification_output\n",
    ")"
   ]
  },
  {
   "cell_type": "code",
   "execution_count": 46,
   "metadata": {},
   "outputs": [
    {
     "data": {
      "text/html": [
       "<div>\n",
       "<style scoped>\n",
       "    .dataframe tbody tr th:only-of-type {\n",
       "        vertical-align: middle;\n",
       "    }\n",
       "\n",
       "    .dataframe tbody tr th {\n",
       "        vertical-align: top;\n",
       "    }\n",
       "\n",
       "    .dataframe thead th {\n",
       "        text-align: right;\n",
       "    }\n",
       "</style>\n",
       "<table border=\"1\" class=\"dataframe\">\n",
       "  <thead>\n",
       "    <tr style=\"text-align: right;\">\n",
       "      <th></th>\n",
       "      <th>x</th>\n",
       "    </tr>\n",
       "  </thead>\n",
       "  <tbody>\n",
       "    <tr>\n",
       "      <th>0</th>\n",
       "      <td>0.01</td>\n",
       "    </tr>\n",
       "    <tr>\n",
       "      <th>1</th>\n",
       "      <td>0.02</td>\n",
       "    </tr>\n",
       "    <tr>\n",
       "      <th>2</th>\n",
       "      <td>0.03</td>\n",
       "    </tr>\n",
       "    <tr>\n",
       "      <th>3</th>\n",
       "      <td>0.04</td>\n",
       "    </tr>\n",
       "    <tr>\n",
       "      <th>4</th>\n",
       "      <td>0.05</td>\n",
       "    </tr>\n",
       "  </tbody>\n",
       "</table>\n",
       "</div>"
      ],
      "text/plain": [
       "      x\n",
       "0  0.01\n",
       "1  0.02\n",
       "2  0.03\n",
       "3  0.04\n",
       "4  0.05"
      ]
     },
     "execution_count": 46,
     "metadata": {},
     "output_type": "execute_result"
    }
   ],
   "source": [
    "df = pd.DataFrame({\n",
    "    'x' : np.arange(1, 100) / 100,\n",
    "})\n",
    "df.head()"
   ]
  },
  {
   "cell_type": "code",
   "execution_count": 47,
   "metadata": {},
   "outputs": [
    {
     "data": {
      "text/html": [
       "<div>\n",
       "<style scoped>\n",
       "    .dataframe tbody tr th:only-of-type {\n",
       "        vertical-align: middle;\n",
       "    }\n",
       "\n",
       "    .dataframe tbody tr th {\n",
       "        vertical-align: top;\n",
       "    }\n",
       "\n",
       "    .dataframe thead th {\n",
       "        text-align: right;\n",
       "    }\n",
       "</style>\n",
       "<table border=\"1\" class=\"dataframe\">\n",
       "  <thead>\n",
       "    <tr style=\"text-align: right;\">\n",
       "      <th></th>\n",
       "      <th>x</th>\n",
       "      <th>threshold0</th>\n",
       "    </tr>\n",
       "  </thead>\n",
       "  <tbody>\n",
       "    <tr>\n",
       "      <th>94</th>\n",
       "      <td>0.95</td>\n",
       "      <td>2632.575</td>\n",
       "    </tr>\n",
       "    <tr>\n",
       "      <th>95</th>\n",
       "      <td>0.96</td>\n",
       "      <td>2584.710</td>\n",
       "    </tr>\n",
       "    <tr>\n",
       "      <th>96</th>\n",
       "      <td>0.97</td>\n",
       "      <td>2536.845</td>\n",
       "    </tr>\n",
       "    <tr>\n",
       "      <th>97</th>\n",
       "      <td>0.98</td>\n",
       "      <td>2488.980</td>\n",
       "    </tr>\n",
       "    <tr>\n",
       "      <th>98</th>\n",
       "      <td>0.99</td>\n",
       "      <td>2441.115</td>\n",
       "    </tr>\n",
       "  </tbody>\n",
       "</table>\n",
       "</div>"
      ],
      "text/plain": [
       "       x  threshold0\n",
       "94  0.95    2632.575\n",
       "95  0.96    2584.710\n",
       "96  0.97    2536.845\n",
       "97  0.98    2488.980\n",
       "98  0.99    2441.115"
      ]
     },
     "execution_count": 47,
     "metadata": {},
     "output_type": "execute_result"
    }
   ],
   "source": [
    "df['threshold0'] = df.apply(lambda row: compute_threshold(min_sizes[0], c_factor, row['x']), axis=1)\n",
    "df.tail()"
   ]
  },
  {
   "cell_type": "code",
   "execution_count": 48,
   "metadata": {},
   "outputs": [
    {
     "data": {
      "text/plain": [
       "<matplotlib.axes._subplots.AxesSubplot at 0x7f89a3067e80>"
      ]
     },
     "execution_count": 48,
     "metadata": {},
     "output_type": "execute_result"
    },
    {
     "data": {
      "image/png": "[encoded data removed]",
      "text/plain": [
       "<Figure size 432x288 with 1 Axes>"
      ]
     },
     "metadata": {
      "needs_background": "light"
     },
     "output_type": "display_data"
    }
   ],
   "source": [
    "df.plot(kind='line', x='x', y='threshold0')"
   ]
  },
  {
   "cell_type": "code",
   "execution_count": null,
   "metadata": {},
   "outputs": [],
   "source": []
  },
  {
   "cell_type": "code",
   "execution_count": null,
   "metadata": {},
   "outputs": [],
   "source": []
  }
 ],
 "metadata": {
  "kernelspec": {
   "display_name": "Python 3",
   "language": "python",
   "name": "python3"
  },
  "language_info": {
   "codemirror_mode": {
    "name": "ipython",
    "version": 3
   },
   "file_extension": ".py",
   "mimetype": "text/x-python",
   "name": "python",
   "nbconvert_exporter": "python",
   "pygments_lexer": "ipython3",
   "version": "3.7.3"
  }
 },
 "nbformat": 4,
 "nbformat_minor": 2
}
