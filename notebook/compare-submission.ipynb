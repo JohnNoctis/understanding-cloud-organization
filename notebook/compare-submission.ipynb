{
 "cells": [
  {
   "cell_type": "code",
   "execution_count": 122,
   "metadata": {},
   "outputs": [],
   "source": [
    "from pathlib import Path\n",
    "import pandas as pd\n",
    "import numpy as np"
   ]
  },
  {
   "cell_type": "code",
   "execution_count": 128,
   "metadata": {},
   "outputs": [],
   "source": [
    "data_dir = Path('../data/original')\n",
    "benchmark_a = data_dir / 'submission_6750a.csv'\n",
    "benchmark_b = data_dir / 'submission_6750b.csv'\n",
    "benchmark_c = data_dir / 'submission_6752.csv'\n",
    "benchmark_d = data_dir / 'submission_6753.csv'\n",
    "benchmark_e = data_dir / 'submission_6756.csv'\n",
    "benchmark_f = data_dir / 'submission_6757.csv'\n",
    "candidate = data_dir / 'submission.csv'"
   ]
  },
  {
   "cell_type": "code",
   "execution_count": 129,
   "metadata": {},
   "outputs": [],
   "source": [
    "dfa = pd.read_csv(benchmark_a).set_index('Image_Label')\n",
    "dfb = pd.read_csv(benchmark_b).set_index('Image_Label')\n",
    "dfc = pd.read_csv(benchmark_c).set_index('Image_Label')\n",
    "dfd = pd.read_csv(benchmark_d).set_index('Image_Label')\n",
    "dfe = pd.read_csv(benchmark_e).set_index('Image_Label')\n",
    "dff = pd.read_csv(benchmark_f).set_index('Image_Label')\n",
    "dfz = pd.read_csv(candidate).set_index('Image_Label')"
   ]
  },
  {
   "cell_type": "code",
   "execution_count": 130,
   "metadata": {},
   "outputs": [
    {
     "name": "stdout",
     "output_type": "stream",
     "text": [
      "5578\n"
     ]
    }
   ],
   "source": [
    "dfx = pd.concat([dfa, dfb, dfc, dfd, dfe, dff], axis=1)\n",
    "common = dfx.isnull().apply(lambda row: not row.any(), axis=1)\n",
    "print(common.sum())"
   ]
  },
  {
   "cell_type": "code",
   "execution_count": 131,
   "metadata": {},
   "outputs": [],
   "source": [
    "benchmarks = [dfa, dfb, dfc, dfd, dfe, dff]\n",
    "for df in benchmarks:\n",
    "    df['positive'] = pd.notna(df)"
   ]
  },
  {
   "cell_type": "code",
   "execution_count": 132,
   "metadata": {},
   "outputs": [
    {
     "name": "stdout",
     "output_type": "stream",
     "text": [
      "Removed: 0\n",
      "Added: 338\n",
      "Removed: 0\n",
      "Added: 116\n",
      "Removed: 0\n",
      "Added: 202\n",
      "Removed: 0\n",
      "Added: 266\n",
      "Removed: 0\n",
      "Added: 221\n",
      "Removed: 0\n",
      "Added: 187\n"
     ]
    }
   ],
   "source": [
    "for df in benchmarks:\n",
    "    diff = (common * -1) + df['positive']\n",
    "    print(f'Removed: {(diff == -1).sum()}')\n",
    "    print(f'Added: {(diff == 1).sum()}')"
   ]
  },
  {
   "cell_type": "code",
   "execution_count": 124,
   "metadata": {},
   "outputs": [
    {
     "name": "stdout",
     "output_type": "stream",
     "text": [
      "Removed: 0\n",
      "Added: 159\n"
     ]
    }
   ],
   "source": [
    "dfz['positive'] = pd.notna(dfz)\n",
    "diff = (common * -1) + dfz['positive']\n",
    "print(f'Removed: {(diff == -1).sum()}')\n",
    "print(f'Added: {(diff == 1).sum()}')\n",
    "for idx, value in (diff == -1).iteritems():\n",
    "    if value:\n",
    "        print(idx)"
   ]
  },
  {
   "cell_type": "code",
   "execution_count": 133,
   "metadata": {},
   "outputs": [
    {
     "name": "stdout",
     "output_type": "stream",
     "text": [
      "Removed: 152\n",
      "Added: 240\n"
     ]
    }
   ],
   "source": [
    "dfz['positive'] = pd.notna(dfz)\n",
    "diff = (dff['positive'] * -1) + dfz['positive']\n",
    "print(f'Removed: {(diff == -1).sum()}')\n",
    "print(f'Added: {(diff == 1).sum()}')"
   ]
  },
  {
   "cell_type": "code",
   "execution_count": 113,
   "metadata": {},
   "outputs": [
    {
     "data": {
      "text/plain": [
       "array([1217.4, 1353. , 1203.2, 2033. ])"
      ]
     },
     "execution_count": 113,
     "metadata": {},
     "output_type": "execute_result"
    }
   ],
   "source": [
    "count_a = np.array([1246, 1365, 1226, 2079])\n",
    "count_b = np.array([1189, 1316, 1190, 1999])\n",
    "count_c = np.array([1206, 1359, 1185, 2030])\n",
    "count_d = np.array([1236, 1367, 1212, 2029])\n",
    "count_e = np.array([1210, 1358, 1203, 2028])\n",
    "avg = np.stack([count_a, count_b, count_c, count_d, count_e], axis=0).mean(axis=0)\n",
    "avg"
   ]
  },
  {
   "cell_type": "code",
   "execution_count": 6,
   "metadata": {},
   "outputs": [
    {
     "data": {
      "text/plain": [
       "307"
      ]
     },
     "execution_count": 6,
     "metadata": {},
     "output_type": "execute_result"
    }
   ],
   "source": [
    "xor = np.logical_xor(dfb['null'].values, dfc['null'].values)\n",
    "xor.sum()"
   ]
  },
  {
   "cell_type": "code",
   "execution_count": 14,
   "metadata": {},
   "outputs": [],
   "source": [
    "N_TEST = 3698\n",
    "TRAIN_DIST = np.array([\n",
    "    0.5014424810674359,\n",
    "    0.4264334655607645,\n",
    "    0.5299314821492968,\n",
    "    0.6763433104940497\n",
    "])\n",
    "expected = TRAIN_DIST * N_TEST"
   ]
  },
  {
   "cell_type": "code",
   "execution_count": 125,
   "metadata": {},
   "outputs": [],
   "source": [
    "predicted = np.array([1215, 1365, 1218, 2055])"
   ]
  },
  {
   "cell_type": "code",
   "execution_count": 126,
   "metadata": {},
   "outputs": [
    {
     "data": {
      "text/plain": [
       "array([0.65522166, 0.86559445, 0.62152795, 0.82163271])"
      ]
     },
     "execution_count": 126,
     "metadata": {},
     "output_type": "execute_result"
    }
   ],
   "source": [
    "# % expected\n",
    "predicted / expected"
   ]
  },
  {
   "cell_type": "code",
   "execution_count": 127,
   "metadata": {},
   "outputs": [
    {
     "data": {
      "text/plain": [
       "array([0.32855598, 0.36911844, 0.32936723, 0.55570579])"
      ]
     },
     "execution_count": 127,
     "metadata": {},
     "output_type": "execute_result"
    }
   ],
   "source": [
    "# % total\n",
    "predicted / N_TEST"
   ]
  },
  {
   "cell_type": "code",
   "execution_count": 57,
   "metadata": {},
   "outputs": [],
   "source": [
    "def compute_top_threshold(t0, c_factor, classification_output):\n",
    "    return t0 - 2 * c_factor * (classification_output - 0.5)"
   ]
  },
  {
   "cell_type": "code",
   "execution_count": 61,
   "metadata": {},
   "outputs": [
    {
     "data": {
      "text/plain": [
       "0.52"
      ]
     },
     "execution_count": 61,
     "metadata": {},
     "output_type": "execute_result"
    }
   ],
   "source": [
    "compute_top_threshold(0.5, 0.02, 0)"
   ]
  },
  {
   "cell_type": "code",
   "execution_count": null,
   "metadata": {},
   "outputs": [],
   "source": []
  }
 ],
 "metadata": {
  "kernelspec": {
   "display_name": "Python 3",
   "language": "python",
   "name": "python3"
  },
  "language_info": {
   "codemirror_mode": {
    "name": "ipython",
    "version": 3
   },
   "file_extension": ".py",
   "mimetype": "text/x-python",
   "name": "python",
   "nbconvert_exporter": "python",
   "pygments_lexer": "ipython3",
   "version": "3.7.3"
  }
 },
 "nbformat": 4,
 "nbformat_minor": 2
}
