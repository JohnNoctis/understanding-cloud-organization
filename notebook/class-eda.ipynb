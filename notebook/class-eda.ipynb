{
 "cells": [
  {
   "cell_type": "code",
   "execution_count": 39,
   "metadata": {},
   "outputs": [],
   "source": [
    "import pandas as pd\n",
    "import numpy as np\n",
    "import matplotlib.pyplot as plt\n",
    "import seaborn as sns\n",
    "\n",
    "from uco.data_loader import RLEInput, RLEOutput, pivot_df"
   ]
  },
  {
   "cell_type": "code",
   "execution_count": 5,
   "metadata": {},
   "outputs": [
    {
     "data": {
      "text/html": [
       "<div>\n",
       "<style scoped>\n",
       "    .dataframe tbody tr th:only-of-type {\n",
       "        vertical-align: middle;\n",
       "    }\n",
       "\n",
       "    .dataframe tbody tr th {\n",
       "        vertical-align: top;\n",
       "    }\n",
       "\n",
       "    .dataframe thead th {\n",
       "        text-align: right;\n",
       "    }\n",
       "</style>\n",
       "<table border=\"1\" class=\"dataframe\">\n",
       "  <thead>\n",
       "    <tr style=\"text-align: right;\">\n",
       "      <th></th>\n",
       "      <th>Image_Label</th>\n",
       "      <th>EncodedPixels</th>\n",
       "    </tr>\n",
       "  </thead>\n",
       "  <tbody>\n",
       "    <tr>\n",
       "      <th>0</th>\n",
       "      <td>0011165.jpg_Fish</td>\n",
       "      <td>264918 937 266318 937 267718 937 269118 937 27...</td>\n",
       "    </tr>\n",
       "    <tr>\n",
       "      <th>1</th>\n",
       "      <td>0011165.jpg_Flower</td>\n",
       "      <td>1355565 1002 1356965 1002 1358365 1002 1359765...</td>\n",
       "    </tr>\n",
       "    <tr>\n",
       "      <th>2</th>\n",
       "      <td>0011165.jpg_Gravel</td>\n",
       "      <td>NaN</td>\n",
       "    </tr>\n",
       "    <tr>\n",
       "      <th>3</th>\n",
       "      <td>0011165.jpg_Sugar</td>\n",
       "      <td>NaN</td>\n",
       "    </tr>\n",
       "    <tr>\n",
       "      <th>4</th>\n",
       "      <td>002be4f.jpg_Fish</td>\n",
       "      <td>233813 878 235213 878 236613 878 238010 881 23...</td>\n",
       "    </tr>\n",
       "  </tbody>\n",
       "</table>\n",
       "</div>"
      ],
      "text/plain": [
       "          Image_Label                                      EncodedPixels\n",
       "0    0011165.jpg_Fish  264918 937 266318 937 267718 937 269118 937 27...\n",
       "1  0011165.jpg_Flower  1355565 1002 1356965 1002 1358365 1002 1359765...\n",
       "2  0011165.jpg_Gravel                                                NaN\n",
       "3   0011165.jpg_Sugar                                                NaN\n",
       "4    002be4f.jpg_Fish  233813 878 235213 878 236613 878 238010 881 23..."
      ]
     },
     "execution_count": 5,
     "metadata": {},
     "output_type": "execute_result"
    }
   ],
   "source": [
    "train_csv = '../data/raw/train.csv'\n",
    "df = pd.read_csv(train_csv)\n",
    "df.head()"
   ]
  },
  {
   "cell_type": "code",
   "execution_count": 7,
   "metadata": {},
   "outputs": [
    {
     "data": {
      "text/html": [
       "<div>\n",
       "<style scoped>\n",
       "    .dataframe tbody tr th:only-of-type {\n",
       "        vertical-align: middle;\n",
       "    }\n",
       "\n",
       "    .dataframe tbody tr th {\n",
       "        vertical-align: top;\n",
       "    }\n",
       "\n",
       "    .dataframe thead th {\n",
       "        text-align: right;\n",
       "    }\n",
       "</style>\n",
       "<table border=\"1\" class=\"dataframe\">\n",
       "  <thead>\n",
       "    <tr style=\"text-align: right;\">\n",
       "      <th></th>\n",
       "      <th>rle0</th>\n",
       "      <th>rle1</th>\n",
       "      <th>rle2</th>\n",
       "      <th>rle3</th>\n",
       "      <th>n_classes</th>\n",
       "      <th>c0</th>\n",
       "      <th>c1</th>\n",
       "      <th>c2</th>\n",
       "      <th>c3</th>\n",
       "    </tr>\n",
       "    <tr>\n",
       "      <th>Image</th>\n",
       "      <th></th>\n",
       "      <th></th>\n",
       "      <th></th>\n",
       "      <th></th>\n",
       "      <th></th>\n",
       "      <th></th>\n",
       "      <th></th>\n",
       "      <th></th>\n",
       "      <th></th>\n",
       "    </tr>\n",
       "  </thead>\n",
       "  <tbody>\n",
       "    <tr>\n",
       "      <th>0011165.jpg</th>\n",
       "      <td>264918 937 266318 937 267718 937 269118 937 27...</td>\n",
       "      <td>1355565 1002 1356965 1002 1358365 1002 1359765...</td>\n",
       "      <td>NaN</td>\n",
       "      <td>NaN</td>\n",
       "      <td>2</td>\n",
       "      <td>True</td>\n",
       "      <td>True</td>\n",
       "      <td>False</td>\n",
       "      <td>False</td>\n",
       "    </tr>\n",
       "    <tr>\n",
       "      <th>002be4f.jpg</th>\n",
       "      <td>233813 878 235213 878 236613 878 238010 881 23...</td>\n",
       "      <td>1339279 519 1340679 519 1342079 519 1343479 51...</td>\n",
       "      <td>NaN</td>\n",
       "      <td>67495 350 68895 350 70295 350 71695 350 73095 ...</td>\n",
       "      <td>3</td>\n",
       "      <td>True</td>\n",
       "      <td>True</td>\n",
       "      <td>False</td>\n",
       "      <td>True</td>\n",
       "    </tr>\n",
       "    <tr>\n",
       "      <th>0031ae9.jpg</th>\n",
       "      <td>3510 690 4910 690 6310 690 7710 690 9110 690 1...</td>\n",
       "      <td>2047 703 3447 703 4847 703 6247 703 7647 703 9...</td>\n",
       "      <td>NaN</td>\n",
       "      <td>658170 388 659570 388 660970 388 662370 388 66...</td>\n",
       "      <td>3</td>\n",
       "      <td>True</td>\n",
       "      <td>True</td>\n",
       "      <td>False</td>\n",
       "      <td>True</td>\n",
       "    </tr>\n",
       "    <tr>\n",
       "      <th>0035239.jpg</th>\n",
       "      <td>NaN</td>\n",
       "      <td>100812 462 102212 462 103612 462 105012 462 10...</td>\n",
       "      <td>65400 380 66800 380 68200 380 69600 380 71000 ...</td>\n",
       "      <td>NaN</td>\n",
       "      <td>2</td>\n",
       "      <td>False</td>\n",
       "      <td>True</td>\n",
       "      <td>True</td>\n",
       "      <td>False</td>\n",
       "    </tr>\n",
       "    <tr>\n",
       "      <th>003994e.jpg</th>\n",
       "      <td>2367966 18 2367985 2 2367993 8 2368002 62 2369...</td>\n",
       "      <td>NaN</td>\n",
       "      <td>353317 416 354717 416 356117 416 357517 416 35...</td>\n",
       "      <td>28011 489 29411 489 30811 489 32211 489 33611 ...</td>\n",
       "      <td>3</td>\n",
       "      <td>True</td>\n",
       "      <td>False</td>\n",
       "      <td>True</td>\n",
       "      <td>True</td>\n",
       "    </tr>\n",
       "  </tbody>\n",
       "</table>\n",
       "</div>"
      ],
      "text/plain": [
       "                                                          rle0  \\\n",
       "Image                                                            \n",
       "0011165.jpg  264918 937 266318 937 267718 937 269118 937 27...   \n",
       "002be4f.jpg  233813 878 235213 878 236613 878 238010 881 23...   \n",
       "0031ae9.jpg  3510 690 4910 690 6310 690 7710 690 9110 690 1...   \n",
       "0035239.jpg                                                NaN   \n",
       "003994e.jpg  2367966 18 2367985 2 2367993 8 2368002 62 2369...   \n",
       "\n",
       "                                                          rle1  \\\n",
       "Image                                                            \n",
       "0011165.jpg  1355565 1002 1356965 1002 1358365 1002 1359765...   \n",
       "002be4f.jpg  1339279 519 1340679 519 1342079 519 1343479 51...   \n",
       "0031ae9.jpg  2047 703 3447 703 4847 703 6247 703 7647 703 9...   \n",
       "0035239.jpg  100812 462 102212 462 103612 462 105012 462 10...   \n",
       "003994e.jpg                                                NaN   \n",
       "\n",
       "                                                          rle2  \\\n",
       "Image                                                            \n",
       "0011165.jpg                                                NaN   \n",
       "002be4f.jpg                                                NaN   \n",
       "0031ae9.jpg                                                NaN   \n",
       "0035239.jpg  65400 380 66800 380 68200 380 69600 380 71000 ...   \n",
       "003994e.jpg  353317 416 354717 416 356117 416 357517 416 35...   \n",
       "\n",
       "                                                          rle3  n_classes  \\\n",
       "Image                                                                       \n",
       "0011165.jpg                                                NaN          2   \n",
       "002be4f.jpg  67495 350 68895 350 70295 350 71695 350 73095 ...          3   \n",
       "0031ae9.jpg  658170 388 659570 388 660970 388 662370 388 66...          3   \n",
       "0035239.jpg                                                NaN          2   \n",
       "003994e.jpg  28011 489 29411 489 30811 489 32211 489 33611 ...          3   \n",
       "\n",
       "                c0     c1     c2     c3  \n",
       "Image                                    \n",
       "0011165.jpg   True   True  False  False  \n",
       "002be4f.jpg   True   True  False   True  \n",
       "0031ae9.jpg   True   True  False   True  \n",
       "0035239.jpg  False   True   True  False  \n",
       "003994e.jpg   True  False   True   True  "
      ]
     },
     "execution_count": 7,
     "metadata": {},
     "output_type": "execute_result"
    }
   ],
   "source": [
    "df = pivot_df(df)\n",
    "df.head()"
   ]
  },
  {
   "cell_type": "code",
   "execution_count": 8,
   "metadata": {},
   "outputs": [
    {
     "data": {
      "text/plain": [
       "{0: 2781, 1: 2365, 2: 2939, 3: 3751}"
      ]
     },
     "execution_count": 8,
     "metadata": {},
     "output_type": "execute_result"
    }
   ],
   "source": [
    "counts = {c: df[f'c{c}'].sum() for c in range(4)}\n",
    "counts"
   ]
  },
  {
   "cell_type": "code",
   "execution_count": 9,
   "metadata": {},
   "outputs": [
    {
     "data": {
      "text/plain": [
       "[(1, 2365), (0, 2781), (2, 2939), (3, 3751)]"
      ]
     },
     "execution_count": 9,
     "metadata": {},
     "output_type": "execute_result"
    }
   ],
   "source": [
    "sorted_classes = sorted(counts.items(), key=lambda kv: kv[1])\n",
    "sorted_classes"
   ]
  },
  {
   "cell_type": "code",
   "execution_count": 14,
   "metadata": {},
   "outputs": [],
   "source": [
    "def pixel_count(s):\n",
    "    if not isinstance(s, str):\n",
    "        return 0\n",
    "    mask = RLEInput.from_str(s).to_mask()\n",
    "    return mask.sum()\n",
    "\n",
    "def contains_defect(s):\n",
    "    return isinstance(s, str)"
   ]
  },
  {
   "cell_type": "code",
   "execution_count": 15,
   "metadata": {},
   "outputs": [
    {
     "data": {
      "text/plain": [
       "Image\n",
       "0011165.jpg    2\n",
       "002be4f.jpg    3\n",
       "0031ae9.jpg    3\n",
       "0035239.jpg    2\n",
       "003994e.jpg    3\n",
       "              ..\n",
       "ffcedf2.jpg    1\n",
       "ffd11b6.jpg    2\n",
       "ffd3dfb.jpg    1\n",
       "ffd6680.jpg    2\n",
       "ffea4f4.jpg    1\n",
       "Name: n_classes, Length: 5546, dtype: int64"
      ]
     },
     "execution_count": 15,
     "metadata": {},
     "output_type": "execute_result"
    }
   ],
   "source": [
    "df.iloc[:, 4]"
   ]
  },
  {
   "cell_type": "code",
   "execution_count": 16,
   "metadata": {},
   "outputs": [],
   "source": [
    "df['c0'] = df.iloc[:, 0].apply(contains_defect)\n",
    "df['c1'] = df.iloc[:, 1].apply(contains_defect)\n",
    "df['c2'] = df.iloc[:, 2].apply(contains_defect)\n",
    "df['c3'] = df.iloc[:, 3].apply(contains_defect)"
   ]
  },
  {
   "cell_type": "code",
   "execution_count": 17,
   "metadata": {},
   "outputs": [
    {
     "data": {
      "text/html": [
       "<div>\n",
       "<style scoped>\n",
       "    .dataframe tbody tr th:only-of-type {\n",
       "        vertical-align: middle;\n",
       "    }\n",
       "\n",
       "    .dataframe tbody tr th {\n",
       "        vertical-align: top;\n",
       "    }\n",
       "\n",
       "    .dataframe thead th {\n",
       "        text-align: right;\n",
       "    }\n",
       "</style>\n",
       "<table border=\"1\" class=\"dataframe\">\n",
       "  <thead>\n",
       "    <tr style=\"text-align: right;\">\n",
       "      <th></th>\n",
       "      <th>rle0</th>\n",
       "      <th>rle1</th>\n",
       "      <th>rle2</th>\n",
       "      <th>rle3</th>\n",
       "      <th>n_classes</th>\n",
       "      <th>c0</th>\n",
       "      <th>c1</th>\n",
       "      <th>c2</th>\n",
       "      <th>c3</th>\n",
       "      <th>px0</th>\n",
       "      <th>px1</th>\n",
       "      <th>px2</th>\n",
       "      <th>px3</th>\n",
       "    </tr>\n",
       "    <tr>\n",
       "      <th>Image</th>\n",
       "      <th></th>\n",
       "      <th></th>\n",
       "      <th></th>\n",
       "      <th></th>\n",
       "      <th></th>\n",
       "      <th></th>\n",
       "      <th></th>\n",
       "      <th></th>\n",
       "      <th></th>\n",
       "      <th></th>\n",
       "      <th></th>\n",
       "      <th></th>\n",
       "      <th></th>\n",
       "    </tr>\n",
       "  </thead>\n",
       "  <tbody>\n",
       "    <tr>\n",
       "      <th>0011165.jpg</th>\n",
       "      <td>264918 937 266318 937 267718 937 269118 937 27...</td>\n",
       "      <td>1355565 1002 1356965 1002 1358365 1002 1359765...</td>\n",
       "      <td>NaN</td>\n",
       "      <td>NaN</td>\n",
       "      <td>2</td>\n",
       "      <td>True</td>\n",
       "      <td>True</td>\n",
       "      <td>False</td>\n",
       "      <td>False</td>\n",
       "      <td>932312</td>\n",
       "      <td>1156107</td>\n",
       "      <td>0</td>\n",
       "      <td>0</td>\n",
       "    </tr>\n",
       "    <tr>\n",
       "      <th>002be4f.jpg</th>\n",
       "      <td>233813 878 235213 878 236613 878 238010 881 23...</td>\n",
       "      <td>1339279 519 1340679 519 1342079 519 1343479 51...</td>\n",
       "      <td>NaN</td>\n",
       "      <td>67495 350 68895 350 70295 350 71695 350 73095 ...</td>\n",
       "      <td>3</td>\n",
       "      <td>True</td>\n",
       "      <td>True</td>\n",
       "      <td>False</td>\n",
       "      <td>True</td>\n",
       "      <td>1684325</td>\n",
       "      <td>592697</td>\n",
       "      <td>0</td>\n",
       "      <td>313950</td>\n",
       "    </tr>\n",
       "    <tr>\n",
       "      <th>0031ae9.jpg</th>\n",
       "      <td>3510 690 4910 690 6310 690 7710 690 9110 690 1...</td>\n",
       "      <td>2047 703 3447 703 4847 703 6247 703 7647 703 9...</td>\n",
       "      <td>NaN</td>\n",
       "      <td>658170 388 659570 388 660970 388 662370 388 66...</td>\n",
       "      <td>3</td>\n",
       "      <td>True</td>\n",
       "      <td>True</td>\n",
       "      <td>False</td>\n",
       "      <td>True</td>\n",
       "      <td>1240822</td>\n",
       "      <td>1178858</td>\n",
       "      <td>0</td>\n",
       "      <td>306908</td>\n",
       "    </tr>\n",
       "    <tr>\n",
       "      <th>0035239.jpg</th>\n",
       "      <td>NaN</td>\n",
       "      <td>100812 462 102212 462 103612 462 105012 462 10...</td>\n",
       "      <td>65400 380 66800 380 68200 380 69600 380 71000 ...</td>\n",
       "      <td>NaN</td>\n",
       "      <td>2</td>\n",
       "      <td>False</td>\n",
       "      <td>True</td>\n",
       "      <td>True</td>\n",
       "      <td>False</td>\n",
       "      <td>0</td>\n",
       "      <td>655989</td>\n",
       "      <td>289939</td>\n",
       "      <td>0</td>\n",
       "    </tr>\n",
       "    <tr>\n",
       "      <th>003994e.jpg</th>\n",
       "      <td>2367966 18 2367985 2 2367993 8 2368002 62 2369...</td>\n",
       "      <td>NaN</td>\n",
       "      <td>353317 416 354717 416 356117 416 357517 416 35...</td>\n",
       "      <td>28011 489 29411 489 30811 489 32211 489 33611 ...</td>\n",
       "      <td>3</td>\n",
       "      <td>True</td>\n",
       "      <td>False</td>\n",
       "      <td>True</td>\n",
       "      <td>True</td>\n",
       "      <td>183231</td>\n",
       "      <td>0</td>\n",
       "      <td>410592</td>\n",
       "      <td>216627</td>\n",
       "    </tr>\n",
       "    <tr>\n",
       "      <th>00498ec.jpg</th>\n",
       "      <td>NaN</td>\n",
       "      <td>NaN</td>\n",
       "      <td>326420 552 327820 552 329220 552 330620 552 33...</td>\n",
       "      <td>NaN</td>\n",
       "      <td>1</td>\n",
       "      <td>False</td>\n",
       "      <td>False</td>\n",
       "      <td>True</td>\n",
       "      <td>False</td>\n",
       "      <td>0</td>\n",
       "      <td>0</td>\n",
       "      <td>203030</td>\n",
       "      <td>0</td>\n",
       "    </tr>\n",
       "    <tr>\n",
       "      <th>006bf7c.jpg</th>\n",
       "      <td>43614 529 45014 529 46414 529 47814 529 49214 ...</td>\n",
       "      <td>NaN</td>\n",
       "      <td>NaN</td>\n",
       "      <td>4221 185 5621 185 7021 185 8421 185 9821 185 1...</td>\n",
       "      <td>2</td>\n",
       "      <td>True</td>\n",
       "      <td>False</td>\n",
       "      <td>False</td>\n",
       "      <td>True</td>\n",
       "      <td>701799</td>\n",
       "      <td>0</td>\n",
       "      <td>0</td>\n",
       "      <td>217745</td>\n",
       "    </tr>\n",
       "    <tr>\n",
       "      <th>006c5a6.jpg</th>\n",
       "      <td>916291 381 917691 381 919091 381 920491 381 92...</td>\n",
       "      <td>NaN</td>\n",
       "      <td>NaN</td>\n",
       "      <td>80340 698 81041 4 81046 3 81050 2 81057 2 8106...</td>\n",
       "      <td>2</td>\n",
       "      <td>True</td>\n",
       "      <td>False</td>\n",
       "      <td>False</td>\n",
       "      <td>True</td>\n",
       "      <td>784836</td>\n",
       "      <td>0</td>\n",
       "      <td>0</td>\n",
       "      <td>1731623</td>\n",
       "    </tr>\n",
       "    <tr>\n",
       "      <th>008233e.jpg</th>\n",
       "      <td>NaN</td>\n",
       "      <td>NaN</td>\n",
       "      <td>NaN</td>\n",
       "      <td>910449 829 911849 829 913249 829 914649 829 91...</td>\n",
       "      <td>1</td>\n",
       "      <td>False</td>\n",
       "      <td>False</td>\n",
       "      <td>False</td>\n",
       "      <td>True</td>\n",
       "      <td>0</td>\n",
       "      <td>0</td>\n",
       "      <td>0</td>\n",
       "      <td>947560</td>\n",
       "    </tr>\n",
       "    <tr>\n",
       "      <th>008a5ff.jpg</th>\n",
       "      <td>1038475 213 1039875 213 1041275 213 1042675 21...</td>\n",
       "      <td>NaN</td>\n",
       "      <td>NaN</td>\n",
       "      <td>2283 511 3683 511 5083 511 6483 511 7883 511 9...</td>\n",
       "      <td>2</td>\n",
       "      <td>True</td>\n",
       "      <td>False</td>\n",
       "      <td>False</td>\n",
       "      <td>True</td>\n",
       "      <td>329865</td>\n",
       "      <td>0</td>\n",
       "      <td>0</td>\n",
       "      <td>461575</td>\n",
       "    </tr>\n",
       "    <tr>\n",
       "      <th>0091591.jpg</th>\n",
       "      <td>NaN</td>\n",
       "      <td>894919 1075 896319 1075 897719 1075 899119 107...</td>\n",
       "      <td>12619 847 14019 847 15419 847 16819 847 18219 ...</td>\n",
       "      <td>75622 378 77022 378 78422 378 79822 378 81222 ...</td>\n",
       "      <td>3</td>\n",
       "      <td>False</td>\n",
       "      <td>True</td>\n",
       "      <td>True</td>\n",
       "      <td>True</td>\n",
       "      <td>0</td>\n",
       "      <td>1533943</td>\n",
       "      <td>1209512</td>\n",
       "      <td>563301</td>\n",
       "    </tr>\n",
       "    <tr>\n",
       "      <th>0095357.jpg</th>\n",
       "      <td>NaN</td>\n",
       "      <td>NaN</td>\n",
       "      <td>NaN</td>\n",
       "      <td>1757754 373 1759154 373 1760554 373 1761954 37...</td>\n",
       "      <td>1</td>\n",
       "      <td>False</td>\n",
       "      <td>False</td>\n",
       "      <td>False</td>\n",
       "      <td>True</td>\n",
       "      <td>0</td>\n",
       "      <td>0</td>\n",
       "      <td>0</td>\n",
       "      <td>190603</td>\n",
       "    </tr>\n",
       "    <tr>\n",
       "      <th>009e2f3.jpg</th>\n",
       "      <td>65812 93 65906 4 65911 10 67212 96 67309 5 673...</td>\n",
       "      <td>NaN</td>\n",
       "      <td>2257162 1024 2258562 1024 2259962 1024 2261362...</td>\n",
       "      <td>1057848 360 1059248 360 1060648 360 1062048 36...</td>\n",
       "      <td>3</td>\n",
       "      <td>True</td>\n",
       "      <td>False</td>\n",
       "      <td>True</td>\n",
       "      <td>True</td>\n",
       "      <td>1600565</td>\n",
       "      <td>0</td>\n",
       "      <td>467968</td>\n",
       "      <td>523321</td>\n",
       "    </tr>\n",
       "    <tr>\n",
       "      <th>00a0954.jpg</th>\n",
       "      <td>NaN</td>\n",
       "      <td>NaN</td>\n",
       "      <td>826045 335 827445 335 828845 335 830245 335 83...</td>\n",
       "      <td>1039811 366 1041211 366 1042611 366 1044011 36...</td>\n",
       "      <td>2</td>\n",
       "      <td>False</td>\n",
       "      <td>False</td>\n",
       "      <td>True</td>\n",
       "      <td>True</td>\n",
       "      <td>0</td>\n",
       "      <td>0</td>\n",
       "      <td>298820</td>\n",
       "      <td>389790</td>\n",
       "    </tr>\n",
       "    <tr>\n",
       "      <th>00b81e1.jpg</th>\n",
       "      <td>NaN</td>\n",
       "      <td>1610959 361 1612359 361 1613759 361 1615159 36...</td>\n",
       "      <td>20324 665 21724 665 23124 665 24524 665 25924 ...</td>\n",
       "      <td>1 837 1401 837 2801 837 4201 837 5601 837 7001...</td>\n",
       "      <td>3</td>\n",
       "      <td>False</td>\n",
       "      <td>True</td>\n",
       "      <td>True</td>\n",
       "      <td>True</td>\n",
       "      <td>0</td>\n",
       "      <td>487012</td>\n",
       "      <td>1177459</td>\n",
       "      <td>1379813</td>\n",
       "    </tr>\n",
       "    <tr>\n",
       "      <th>00bea06.jpg</th>\n",
       "      <td>631761 556 633161 556 634561 556 635961 556 63...</td>\n",
       "      <td>NaN</td>\n",
       "      <td>1588602 380 1590002 380 1591402 380 1592802 38...</td>\n",
       "      <td>NaN</td>\n",
       "      <td>2</td>\n",
       "      <td>True</td>\n",
       "      <td>False</td>\n",
       "      <td>True</td>\n",
       "      <td>False</td>\n",
       "      <td>759457</td>\n",
       "      <td>0</td>\n",
       "      <td>202428</td>\n",
       "      <td>0</td>\n",
       "    </tr>\n",
       "    <tr>\n",
       "      <th>00cedfa.jpg</th>\n",
       "      <td>NaN</td>\n",
       "      <td>NaN</td>\n",
       "      <td>31582 409 32982 409 34382 409 35782 409 37182 ...</td>\n",
       "      <td>1405 753 2805 753 4205 753 5605 753 7005 753 8...</td>\n",
       "      <td>2</td>\n",
       "      <td>False</td>\n",
       "      <td>False</td>\n",
       "      <td>True</td>\n",
       "      <td>True</td>\n",
       "      <td>0</td>\n",
       "      <td>0</td>\n",
       "      <td>1980367</td>\n",
       "      <td>929942</td>\n",
       "    </tr>\n",
       "    <tr>\n",
       "      <th>00d4443.jpg</th>\n",
       "      <td>NaN</td>\n",
       "      <td>NaN</td>\n",
       "      <td>NaN</td>\n",
       "      <td>70287 806 71687 806 73087 806 74487 806 75887 ...</td>\n",
       "      <td>1</td>\n",
       "      <td>False</td>\n",
       "      <td>False</td>\n",
       "      <td>False</td>\n",
       "      <td>True</td>\n",
       "      <td>0</td>\n",
       "      <td>0</td>\n",
       "      <td>0</td>\n",
       "      <td>1196499</td>\n",
       "    </tr>\n",
       "    <tr>\n",
       "      <th>00dec6a.jpg</th>\n",
       "      <td>59729 441 61129 441 62529 441 63929 441 65329 ...</td>\n",
       "      <td>46262 840 47662 840 49062 840 50462 840 51862 ...</td>\n",
       "      <td>8431 843 9831 843 11231 843 12631 843 13495 50...</td>\n",
       "      <td>371020 451 372420 451 373820 451 375220 451 37...</td>\n",
       "      <td>4</td>\n",
       "      <td>True</td>\n",
       "      <td>True</td>\n",
       "      <td>True</td>\n",
       "      <td>True</td>\n",
       "      <td>843497</td>\n",
       "      <td>1280158</td>\n",
       "      <td>2311697</td>\n",
       "      <td>424842</td>\n",
       "    </tr>\n",
       "    <tr>\n",
       "      <th>0100a84.jpg</th>\n",
       "      <td>16817 985 18217 985 19617 985 21017 985 22417 ...</td>\n",
       "      <td>NaN</td>\n",
       "      <td>1131 264 2531 264 3931 264 5331 264 6731 264 8...</td>\n",
       "      <td>NaN</td>\n",
       "      <td>2</td>\n",
       "      <td>True</td>\n",
       "      <td>False</td>\n",
       "      <td>True</td>\n",
       "      <td>False</td>\n",
       "      <td>1798051</td>\n",
       "      <td>0</td>\n",
       "      <td>310726</td>\n",
       "      <td>0</td>\n",
       "    </tr>\n",
       "    <tr>\n",
       "      <th>0104b5b.jpg</th>\n",
       "      <td>NaN</td>\n",
       "      <td>NaN</td>\n",
       "      <td>NaN</td>\n",
       "      <td>310008 640 311408 640 312808 640 314208 640 31...</td>\n",
       "      <td>1</td>\n",
       "      <td>False</td>\n",
       "      <td>False</td>\n",
       "      <td>False</td>\n",
       "      <td>True</td>\n",
       "      <td>0</td>\n",
       "      <td>0</td>\n",
       "      <td>0</td>\n",
       "      <td>877488</td>\n",
       "    </tr>\n",
       "    <tr>\n",
       "      <th>0107838.jpg</th>\n",
       "      <td>30880 1230 32280 1230 33680 1230 35080 1230 36...</td>\n",
       "      <td>NaN</td>\n",
       "      <td>2222121 494 2223521 494 2224921 494 2226321 49...</td>\n",
       "      <td>1828097 248 1829497 248 1830897 248 1832297 24...</td>\n",
       "      <td>3</td>\n",
       "      <td>True</td>\n",
       "      <td>False</td>\n",
       "      <td>True</td>\n",
       "      <td>True</td>\n",
       "      <td>2228403</td>\n",
       "      <td>0</td>\n",
       "      <td>252926</td>\n",
       "      <td>445448</td>\n",
       "    </tr>\n",
       "    <tr>\n",
       "      <th>0118bff.jpg</th>\n",
       "      <td>NaN</td>\n",
       "      <td>627869 609 629269 609 630669 609 632069 609 63...</td>\n",
       "      <td>NaN</td>\n",
       "      <td>17658 538 19058 538 20458 538 21858 538 23258 ...</td>\n",
       "      <td>2</td>\n",
       "      <td>False</td>\n",
       "      <td>True</td>\n",
       "      <td>False</td>\n",
       "      <td>True</td>\n",
       "      <td>0</td>\n",
       "      <td>833721</td>\n",
       "      <td>0</td>\n",
       "      <td>460738</td>\n",
       "    </tr>\n",
       "    <tr>\n",
       "      <th>011ba04.jpg</th>\n",
       "      <td>2040442 354 2041842 354 2043242 354 2044642 35...</td>\n",
       "      <td>715401 257 716801 257 718201 257 719601 257 72...</td>\n",
       "      <td>NaN</td>\n",
       "      <td>1 664 1401 664 2801 664 4201 664 5601 664 7001...</td>\n",
       "      <td>3</td>\n",
       "      <td>True</td>\n",
       "      <td>True</td>\n",
       "      <td>False</td>\n",
       "      <td>True</td>\n",
       "      <td>144077</td>\n",
       "      <td>621693</td>\n",
       "      <td>0</td>\n",
       "      <td>473035</td>\n",
       "    </tr>\n",
       "    <tr>\n",
       "      <th>01242d7.jpg</th>\n",
       "      <td>973171 62 973238 2 973244 2 973249 1 973265 8 ...</td>\n",
       "      <td>NaN</td>\n",
       "      <td>1723699 568 1725099 568 1726499 568 1727899 56...</td>\n",
       "      <td>64 477 1464 477 2864 477 4264 477 5664 477 706...</td>\n",
       "      <td>3</td>\n",
       "      <td>True</td>\n",
       "      <td>False</td>\n",
       "      <td>True</td>\n",
       "      <td>True</td>\n",
       "      <td>1113732</td>\n",
       "      <td>0</td>\n",
       "      <td>475980</td>\n",
       "      <td>254240</td>\n",
       "    </tr>\n",
       "  </tbody>\n",
       "</table>\n",
       "</div>"
      ],
      "text/plain": [
       "                                                          rle0  \\\n",
       "Image                                                            \n",
       "0011165.jpg  264918 937 266318 937 267718 937 269118 937 27...   \n",
       "002be4f.jpg  233813 878 235213 878 236613 878 238010 881 23...   \n",
       "0031ae9.jpg  3510 690 4910 690 6310 690 7710 690 9110 690 1...   \n",
       "0035239.jpg                                                NaN   \n",
       "003994e.jpg  2367966 18 2367985 2 2367993 8 2368002 62 2369...   \n",
       "00498ec.jpg                                                NaN   \n",
       "006bf7c.jpg  43614 529 45014 529 46414 529 47814 529 49214 ...   \n",
       "006c5a6.jpg  916291 381 917691 381 919091 381 920491 381 92...   \n",
       "008233e.jpg                                                NaN   \n",
       "008a5ff.jpg  1038475 213 1039875 213 1041275 213 1042675 21...   \n",
       "0091591.jpg                                                NaN   \n",
       "0095357.jpg                                                NaN   \n",
       "009e2f3.jpg  65812 93 65906 4 65911 10 67212 96 67309 5 673...   \n",
       "00a0954.jpg                                                NaN   \n",
       "00b81e1.jpg                                                NaN   \n",
       "00bea06.jpg  631761 556 633161 556 634561 556 635961 556 63...   \n",
       "00cedfa.jpg                                                NaN   \n",
       "00d4443.jpg                                                NaN   \n",
       "00dec6a.jpg  59729 441 61129 441 62529 441 63929 441 65329 ...   \n",
       "0100a84.jpg  16817 985 18217 985 19617 985 21017 985 22417 ...   \n",
       "0104b5b.jpg                                                NaN   \n",
       "0107838.jpg  30880 1230 32280 1230 33680 1230 35080 1230 36...   \n",
       "0118bff.jpg                                                NaN   \n",
       "011ba04.jpg  2040442 354 2041842 354 2043242 354 2044642 35...   \n",
       "01242d7.jpg  973171 62 973238 2 973244 2 973249 1 973265 8 ...   \n",
       "\n",
       "                                                          rle1  \\\n",
       "Image                                                            \n",
       "0011165.jpg  1355565 1002 1356965 1002 1358365 1002 1359765...   \n",
       "002be4f.jpg  1339279 519 1340679 519 1342079 519 1343479 51...   \n",
       "0031ae9.jpg  2047 703 3447 703 4847 703 6247 703 7647 703 9...   \n",
       "0035239.jpg  100812 462 102212 462 103612 462 105012 462 10...   \n",
       "003994e.jpg                                                NaN   \n",
       "00498ec.jpg                                                NaN   \n",
       "006bf7c.jpg                                                NaN   \n",
       "006c5a6.jpg                                                NaN   \n",
       "008233e.jpg                                                NaN   \n",
       "008a5ff.jpg                                                NaN   \n",
       "0091591.jpg  894919 1075 896319 1075 897719 1075 899119 107...   \n",
       "0095357.jpg                                                NaN   \n",
       "009e2f3.jpg                                                NaN   \n",
       "00a0954.jpg                                                NaN   \n",
       "00b81e1.jpg  1610959 361 1612359 361 1613759 361 1615159 36...   \n",
       "00bea06.jpg                                                NaN   \n",
       "00cedfa.jpg                                                NaN   \n",
       "00d4443.jpg                                                NaN   \n",
       "00dec6a.jpg  46262 840 47662 840 49062 840 50462 840 51862 ...   \n",
       "0100a84.jpg                                                NaN   \n",
       "0104b5b.jpg                                                NaN   \n",
       "0107838.jpg                                                NaN   \n",
       "0118bff.jpg  627869 609 629269 609 630669 609 632069 609 63...   \n",
       "011ba04.jpg  715401 257 716801 257 718201 257 719601 257 72...   \n",
       "01242d7.jpg                                                NaN   \n",
       "\n",
       "                                                          rle2  \\\n",
       "Image                                                            \n",
       "0011165.jpg                                                NaN   \n",
       "002be4f.jpg                                                NaN   \n",
       "0031ae9.jpg                                                NaN   \n",
       "0035239.jpg  65400 380 66800 380 68200 380 69600 380 71000 ...   \n",
       "003994e.jpg  353317 416 354717 416 356117 416 357517 416 35...   \n",
       "00498ec.jpg  326420 552 327820 552 329220 552 330620 552 33...   \n",
       "006bf7c.jpg                                                NaN   \n",
       "006c5a6.jpg                                                NaN   \n",
       "008233e.jpg                                                NaN   \n",
       "008a5ff.jpg                                                NaN   \n",
       "0091591.jpg  12619 847 14019 847 15419 847 16819 847 18219 ...   \n",
       "0095357.jpg                                                NaN   \n",
       "009e2f3.jpg  2257162 1024 2258562 1024 2259962 1024 2261362...   \n",
       "00a0954.jpg  826045 335 827445 335 828845 335 830245 335 83...   \n",
       "00b81e1.jpg  20324 665 21724 665 23124 665 24524 665 25924 ...   \n",
       "00bea06.jpg  1588602 380 1590002 380 1591402 380 1592802 38...   \n",
       "00cedfa.jpg  31582 409 32982 409 34382 409 35782 409 37182 ...   \n",
       "00d4443.jpg                                                NaN   \n",
       "00dec6a.jpg  8431 843 9831 843 11231 843 12631 843 13495 50...   \n",
       "0100a84.jpg  1131 264 2531 264 3931 264 5331 264 6731 264 8...   \n",
       "0104b5b.jpg                                                NaN   \n",
       "0107838.jpg  2222121 494 2223521 494 2224921 494 2226321 49...   \n",
       "0118bff.jpg                                                NaN   \n",
       "011ba04.jpg                                                NaN   \n",
       "01242d7.jpg  1723699 568 1725099 568 1726499 568 1727899 56...   \n",
       "\n",
       "                                                          rle3  n_classes  \\\n",
       "Image                                                                       \n",
       "0011165.jpg                                                NaN          2   \n",
       "002be4f.jpg  67495 350 68895 350 70295 350 71695 350 73095 ...          3   \n",
       "0031ae9.jpg  658170 388 659570 388 660970 388 662370 388 66...          3   \n",
       "0035239.jpg                                                NaN          2   \n",
       "003994e.jpg  28011 489 29411 489 30811 489 32211 489 33611 ...          3   \n",
       "00498ec.jpg                                                NaN          1   \n",
       "006bf7c.jpg  4221 185 5621 185 7021 185 8421 185 9821 185 1...          2   \n",
       "006c5a6.jpg  80340 698 81041 4 81046 3 81050 2 81057 2 8106...          2   \n",
       "008233e.jpg  910449 829 911849 829 913249 829 914649 829 91...          1   \n",
       "008a5ff.jpg  2283 511 3683 511 5083 511 6483 511 7883 511 9...          2   \n",
       "0091591.jpg  75622 378 77022 378 78422 378 79822 378 81222 ...          3   \n",
       "0095357.jpg  1757754 373 1759154 373 1760554 373 1761954 37...          1   \n",
       "009e2f3.jpg  1057848 360 1059248 360 1060648 360 1062048 36...          3   \n",
       "00a0954.jpg  1039811 366 1041211 366 1042611 366 1044011 36...          2   \n",
       "00b81e1.jpg  1 837 1401 837 2801 837 4201 837 5601 837 7001...          3   \n",
       "00bea06.jpg                                                NaN          2   \n",
       "00cedfa.jpg  1405 753 2805 753 4205 753 5605 753 7005 753 8...          2   \n",
       "00d4443.jpg  70287 806 71687 806 73087 806 74487 806 75887 ...          1   \n",
       "00dec6a.jpg  371020 451 372420 451 373820 451 375220 451 37...          4   \n",
       "0100a84.jpg                                                NaN          2   \n",
       "0104b5b.jpg  310008 640 311408 640 312808 640 314208 640 31...          1   \n",
       "0107838.jpg  1828097 248 1829497 248 1830897 248 1832297 24...          3   \n",
       "0118bff.jpg  17658 538 19058 538 20458 538 21858 538 23258 ...          2   \n",
       "011ba04.jpg  1 664 1401 664 2801 664 4201 664 5601 664 7001...          3   \n",
       "01242d7.jpg  64 477 1464 477 2864 477 4264 477 5664 477 706...          3   \n",
       "\n",
       "                c0     c1     c2     c3      px0      px1      px2      px3  \n",
       "Image                                                                        \n",
       "0011165.jpg   True   True  False  False   932312  1156107        0        0  \n",
       "002be4f.jpg   True   True  False   True  1684325   592697        0   313950  \n",
       "0031ae9.jpg   True   True  False   True  1240822  1178858        0   306908  \n",
       "0035239.jpg  False   True   True  False        0   655989   289939        0  \n",
       "003994e.jpg   True  False   True   True   183231        0   410592   216627  \n",
       "00498ec.jpg  False  False   True  False        0        0   203030        0  \n",
       "006bf7c.jpg   True  False  False   True   701799        0        0   217745  \n",
       "006c5a6.jpg   True  False  False   True   784836        0        0  1731623  \n",
       "008233e.jpg  False  False  False   True        0        0        0   947560  \n",
       "008a5ff.jpg   True  False  False   True   329865        0        0   461575  \n",
       "0091591.jpg  False   True   True   True        0  1533943  1209512   563301  \n",
       "0095357.jpg  False  False  False   True        0        0        0   190603  \n",
       "009e2f3.jpg   True  False   True   True  1600565        0   467968   523321  \n",
       "00a0954.jpg  False  False   True   True        0        0   298820   389790  \n",
       "00b81e1.jpg  False   True   True   True        0   487012  1177459  1379813  \n",
       "00bea06.jpg   True  False   True  False   759457        0   202428        0  \n",
       "00cedfa.jpg  False  False   True   True        0        0  1980367   929942  \n",
       "00d4443.jpg  False  False  False   True        0        0        0  1196499  \n",
       "00dec6a.jpg   True   True   True   True   843497  1280158  2311697   424842  \n",
       "0100a84.jpg   True  False   True  False  1798051        0   310726        0  \n",
       "0104b5b.jpg  False  False  False   True        0        0        0   877488  \n",
       "0107838.jpg   True  False   True   True  2228403        0   252926   445448  \n",
       "0118bff.jpg  False   True  False   True        0   833721        0   460738  \n",
       "011ba04.jpg   True   True  False   True   144077   621693        0   473035  \n",
       "01242d7.jpg   True  False   True   True  1113732        0   475980   254240  "
      ]
     },
     "execution_count": 17,
     "metadata": {},
     "output_type": "execute_result"
    }
   ],
   "source": [
    "df['px0'] = df.iloc[:, 0].apply(pixel_count)\n",
    "df['px1'] = df.iloc[:, 1].apply(pixel_count)\n",
    "df['px2'] = df.iloc[:, 2].apply(pixel_count)\n",
    "df['px3'] = df.iloc[:, 3].apply(pixel_count)\n",
    "df.head(25)"
   ]
  },
  {
   "cell_type": "code",
   "execution_count": 37,
   "metadata": {},
   "outputs": [
    {
     "data": {
      "text/plain": [
       "2940000"
      ]
     },
     "execution_count": 37,
     "metadata": {},
     "output_type": "execute_result"
    }
   ],
   "source": [
    "H = RLEInput.MASK_H\n",
    "W = RLEInput.MASK_W\n",
    "N_Input = H * W\n",
    "N_Input"
   ]
  },
  {
   "cell_type": "code",
   "execution_count": 40,
   "metadata": {},
   "outputs": [
    {
     "data": {
      "text/plain": [
       "183750"
      ]
     },
     "execution_count": 40,
     "metadata": {},
     "output_type": "execute_result"
    }
   ],
   "source": [
    "H = RLEOutput.MASK_H\n",
    "W = RLEOutput.MASK_W\n",
    "N_Output = H * W\n",
    "N_Output"
   ]
  },
  {
   "cell_type": "code",
   "execution_count": 43,
   "metadata": {},
   "outputs": [
    {
     "data": {
      "text/plain": [
       "16.0"
      ]
     },
     "execution_count": 43,
     "metadata": {},
     "output_type": "execute_result"
    }
   ],
   "source": [
    "scale_output = N_Input / N_Output\n",
    "scale_output"
   ]
  },
  {
   "cell_type": "code",
   "execution_count": 48,
   "metadata": {},
   "outputs": [
    {
     "data": {
      "text/plain": [
       "9573.1375"
      ]
     },
     "execution_count": 48,
     "metadata": {},
     "output_type": "execute_result"
    }
   ],
   "source": [
    "df.loc[df.px0 != 0, 'px0'].quantile(0.02) / scale_output"
   ]
  },
  {
   "cell_type": "code",
   "execution_count": 19,
   "metadata": {},
   "outputs": [
    {
     "data": {
      "text/plain": [
       "<matplotlib.axes._subplots.AxesSubplot at 0x7f906f20a8d0>"
      ]
     },
     "execution_count": 19,
     "metadata": {},
     "output_type": "execute_result"
    },
    {
     "data": {
      "image/png": "[encoded data removed]",
      "text/plain": [
       "<Figure size 432x288 with 1 Axes>"
      ]
     },
     "metadata": {
      "needs_background": "light"
     },
     "output_type": "display_data"
    }
   ],
   "source": [
    "sns.distplot(df.loc[df.px0 != 0, 'px0'], bins=100, kde=False)"
   ]
  },
  {
   "cell_type": "code",
   "execution_count": 49,
   "metadata": {},
   "outputs": [
    {
     "data": {
      "text/plain": [
       "9670.0275"
      ]
     },
     "execution_count": 49,
     "metadata": {},
     "output_type": "execute_result"
    }
   ],
   "source": [
    "df.loc[df.px1 != 0, 'px1'].quantile(0.02) / scale_output"
   ]
  },
  {
   "cell_type": "code",
   "execution_count": 21,
   "metadata": {},
   "outputs": [
    {
     "data": {
      "text/plain": [
       "<matplotlib.axes._subplots.AxesSubplot at 0x7f906f03f128>"
      ]
     },
     "execution_count": 21,
     "metadata": {},
     "output_type": "execute_result"
    },
    {
     "data": {
      "image/png": "[encoded data removed]",
      "text/plain": [
       "<Figure size 432x288 with 1 Axes>"
      ]
     },
     "metadata": {
      "needs_background": "light"
     },
     "output_type": "display_data"
    }
   ],
   "source": [
    "sns.distplot(df.loc[df.px1 != 0, 'px1'])"
   ]
  },
  {
   "cell_type": "code",
   "execution_count": 50,
   "metadata": {},
   "outputs": [
    {
     "data": {
      "text/plain": [
       "9019.9175"
      ]
     },
     "execution_count": 50,
     "metadata": {},
     "output_type": "execute_result"
    }
   ],
   "source": [
    "df.loc[df.px2 != 0, 'px2'].quantile(0.02) / scale_output"
   ]
  },
  {
   "cell_type": "code",
   "execution_count": 23,
   "metadata": {},
   "outputs": [
    {
     "data": {
      "text/plain": [
       "<matplotlib.axes._subplots.AxesSubplot at 0x7f906ed0fd30>"
      ]
     },
     "execution_count": 23,
     "metadata": {},
     "output_type": "execute_result"
    },
    {
     "data": {
      "image/png": "[encoded data removed]",
      "text/plain": [
       "<Figure size 432x288 with 1 Axes>"
      ]
     },
     "metadata": {
      "needs_background": "light"
     },
     "output_type": "display_data"
    }
   ],
   "source": [
    "sns.distplot(df.loc[df.px2 != 0, 'px2'])"
   ]
  },
  {
   "cell_type": "code",
   "execution_count": 51,
   "metadata": {},
   "outputs": [
    {
     "data": {
      "text/plain": [
       "7885.75"
      ]
     },
     "execution_count": 51,
     "metadata": {},
     "output_type": "execute_result"
    }
   ],
   "source": [
    "df.loc[df.px3 != 0, 'px3'].quantile(0.02) / scale_output"
   ]
  },
  {
   "cell_type": "code",
   "execution_count": 25,
   "metadata": {},
   "outputs": [
    {
     "data": {
      "text/plain": [
       "<matplotlib.axes._subplots.AxesSubplot at 0x7f906ecb1860>"
      ]
     },
     "execution_count": 25,
     "metadata": {},
     "output_type": "execute_result"
    },
    {
     "data": {
      "image/png": "[encoded data removed]",
      "text/plain": [
       "<Figure size 432x288 with 1 Axes>"
      ]
     },
     "metadata": {
      "needs_background": "light"
     },
     "output_type": "display_data"
    }
   ],
   "source": [
    "sns.distplot(df.loc[df.px3 != 0, 'px3'])"
   ]
  },
  {
   "cell_type": "code",
   "execution_count": 26,
   "metadata": {},
   "outputs": [
    {
     "ename": "AttributeError",
     "evalue": "'DataFrame' object has no attribute 'c4'",
     "output_type": "error",
     "traceback": [
      "\u001b[0;31m---------------------------------------------------------------------------\u001b[0m",
      "\u001b[0;31mAttributeError\u001b[0m                            Traceback (most recent call last)",
      "\u001b[0;32m<ipython-input-26-df1401ad3ed5>\u001b[0m in \u001b[0;36m<module>\u001b[0;34m\u001b[0m\n\u001b[0;32m----> 1\u001b[0;31m \u001b[0mprint\u001b[0m\u001b[0;34m(\u001b[0m\u001b[0mdf\u001b[0m\u001b[0;34m.\u001b[0m\u001b[0mc1\u001b[0m\u001b[0;34m.\u001b[0m\u001b[0mmean\u001b[0m\u001b[0;34m(\u001b[0m\u001b[0;34m)\u001b[0m\u001b[0;34m,\u001b[0m \u001b[0mdf\u001b[0m\u001b[0;34m.\u001b[0m\u001b[0mc2\u001b[0m\u001b[0;34m.\u001b[0m\u001b[0mmean\u001b[0m\u001b[0;34m(\u001b[0m\u001b[0;34m)\u001b[0m\u001b[0;34m,\u001b[0m \u001b[0mdf\u001b[0m\u001b[0;34m.\u001b[0m\u001b[0mc3\u001b[0m\u001b[0;34m.\u001b[0m\u001b[0mmean\u001b[0m\u001b[0;34m(\u001b[0m\u001b[0;34m)\u001b[0m\u001b[0;34m,\u001b[0m \u001b[0mdf\u001b[0m\u001b[0;34m.\u001b[0m\u001b[0mc4\u001b[0m\u001b[0;34m.\u001b[0m\u001b[0mmean\u001b[0m\u001b[0;34m(\u001b[0m\u001b[0;34m)\u001b[0m\u001b[0;34m)\u001b[0m\u001b[0;34m\u001b[0m\u001b[0;34m\u001b[0m\u001b[0m\n\u001b[0m",
      "\u001b[0;32m~/.conda/envs/uco/lib/python3.7/site-packages/pandas/core/generic.py\u001b[0m in \u001b[0;36m__getattr__\u001b[0;34m(self, name)\u001b[0m\n\u001b[1;32m   5177\u001b[0m             \u001b[0;32mif\u001b[0m \u001b[0mself\u001b[0m\u001b[0;34m.\u001b[0m\u001b[0m_info_axis\u001b[0m\u001b[0;34m.\u001b[0m\u001b[0m_can_hold_identifiers_and_holds_name\u001b[0m\u001b[0;34m(\u001b[0m\u001b[0mname\u001b[0m\u001b[0;34m)\u001b[0m\u001b[0;34m:\u001b[0m\u001b[0;34m\u001b[0m\u001b[0;34m\u001b[0m\u001b[0m\n\u001b[1;32m   5178\u001b[0m                 \u001b[0;32mreturn\u001b[0m \u001b[0mself\u001b[0m\u001b[0;34m[\u001b[0m\u001b[0mname\u001b[0m\u001b[0;34m]\u001b[0m\u001b[0;34m\u001b[0m\u001b[0;34m\u001b[0m\u001b[0m\n\u001b[0;32m-> 5179\u001b[0;31m             \u001b[0;32mreturn\u001b[0m \u001b[0mobject\u001b[0m\u001b[0;34m.\u001b[0m\u001b[0m__getattribute__\u001b[0m\u001b[0;34m(\u001b[0m\u001b[0mself\u001b[0m\u001b[0;34m,\u001b[0m \u001b[0mname\u001b[0m\u001b[0;34m)\u001b[0m\u001b[0;34m\u001b[0m\u001b[0;34m\u001b[0m\u001b[0m\n\u001b[0m\u001b[1;32m   5180\u001b[0m \u001b[0;34m\u001b[0m\u001b[0m\n\u001b[1;32m   5181\u001b[0m     \u001b[0;32mdef\u001b[0m \u001b[0m__setattr__\u001b[0m\u001b[0;34m(\u001b[0m\u001b[0mself\u001b[0m\u001b[0;34m,\u001b[0m \u001b[0mname\u001b[0m\u001b[0;34m,\u001b[0m \u001b[0mvalue\u001b[0m\u001b[0;34m)\u001b[0m\u001b[0;34m:\u001b[0m\u001b[0;34m\u001b[0m\u001b[0;34m\u001b[0m\u001b[0m\n",
      "\u001b[0;31mAttributeError\u001b[0m: 'DataFrame' object has no attribute 'c4'"
     ]
    }
   ],
   "source": [
    "print(df.c1.mean(), df.c2.mean(), df.c3.mean(), df.c4.mean())"
   ]
  },
  {
   "cell_type": "code",
   "execution_count": null,
   "metadata": {},
   "outputs": [],
   "source": [
    "df.groupby(['c1', 'c2', 'c3', 'c4'])['defects'].count()"
   ]
  },
  {
   "cell_type": "code",
   "execution_count": null,
   "metadata": {},
   "outputs": [],
   "source": [
    "df.c3.mean()"
   ]
  },
  {
   "cell_type": "code",
   "execution_count": null,
   "metadata": {},
   "outputs": [],
   "source": [
    "df_empty.empty"
   ]
  },
  {
   "cell_type": "code",
   "execution_count": null,
   "metadata": {},
   "outputs": [],
   "source": [
    "df_nodef = df.loc[df.defects > 0, :]\n",
    "df_nodef.shape"
   ]
  },
  {
   "cell_type": "code",
   "execution_count": null,
   "metadata": {},
   "outputs": [],
   "source": []
  }
 ],
 "metadata": {
  "kernelspec": {
   "display_name": "Python 3",
   "language": "python",
   "name": "python3"
  },
  "language_info": {
   "codemirror_mode": {
    "name": "ipython",
    "version": 3
   },
   "file_extension": ".py",
   "mimetype": "text/x-python",
   "name": "python",
   "nbconvert_exporter": "python",
   "pygments_lexer": "ipython3",
   "version": "3.7.3"
  }
 },
 "nbformat": 4,
 "nbformat_minor": 2
}
