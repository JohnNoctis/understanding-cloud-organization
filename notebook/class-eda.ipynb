{
 "cells": [
  {
   "cell_type": "code",
   "execution_count": 2,
   "metadata": {},
   "outputs": [],
   "source": [
    "import cv2\n",
    "import pandas as pd\n",
    "import numpy as np\n",
    "import matplotlib.pyplot as plt\n",
    "import seaborn as sns\n",
    "from tqdm import tqdm\n",
    "\n",
    "from uco.data_loader import RLEInput, RLEOutput, pivot_df"
   ]
  },
  {
   "cell_type": "code",
   "execution_count": 3,
   "metadata": {},
   "outputs": [
    {
     "name": "stdout",
     "output_type": "stream",
     "text": [
      "(22184, 2)\n"
     ]
    },
    {
     "data": {
      "text/html": [
       "<div>\n",
       "<style scoped>\n",
       "    .dataframe tbody tr th:only-of-type {\n",
       "        vertical-align: middle;\n",
       "    }\n",
       "\n",
       "    .dataframe tbody tr th {\n",
       "        vertical-align: top;\n",
       "    }\n",
       "\n",
       "    .dataframe thead th {\n",
       "        text-align: right;\n",
       "    }\n",
       "</style>\n",
       "<table border=\"1\" class=\"dataframe\">\n",
       "  <thead>\n",
       "    <tr style=\"text-align: right;\">\n",
       "      <th></th>\n",
       "      <th>rle0</th>\n",
       "      <th>rle1</th>\n",
       "      <th>rle2</th>\n",
       "      <th>rle3</th>\n",
       "      <th>n_classes</th>\n",
       "      <th>c0</th>\n",
       "      <th>c1</th>\n",
       "      <th>c2</th>\n",
       "      <th>c3</th>\n",
       "    </tr>\n",
       "    <tr>\n",
       "      <th>Image</th>\n",
       "      <th></th>\n",
       "      <th></th>\n",
       "      <th></th>\n",
       "      <th></th>\n",
       "      <th></th>\n",
       "      <th></th>\n",
       "      <th></th>\n",
       "      <th></th>\n",
       "      <th></th>\n",
       "    </tr>\n",
       "  </thead>\n",
       "  <tbody>\n",
       "    <tr>\n",
       "      <th>0011165.jpg</th>\n",
       "      <td>264918 937 266318 937 267718 937 269118 937 27...</td>\n",
       "      <td>1355565 1002 1356965 1002 1358365 1002 1359765...</td>\n",
       "      <td>NaN</td>\n",
       "      <td>NaN</td>\n",
       "      <td>2</td>\n",
       "      <td>True</td>\n",
       "      <td>True</td>\n",
       "      <td>False</td>\n",
       "      <td>False</td>\n",
       "    </tr>\n",
       "    <tr>\n",
       "      <th>002be4f.jpg</th>\n",
       "      <td>233813 878 235213 878 236613 878 238010 881 23...</td>\n",
       "      <td>1339279 519 1340679 519 1342079 519 1343479 51...</td>\n",
       "      <td>NaN</td>\n",
       "      <td>67495 350 68895 350 70295 350 71695 350 73095 ...</td>\n",
       "      <td>3</td>\n",
       "      <td>True</td>\n",
       "      <td>True</td>\n",
       "      <td>False</td>\n",
       "      <td>True</td>\n",
       "    </tr>\n",
       "    <tr>\n",
       "      <th>0031ae9.jpg</th>\n",
       "      <td>3510 690 4910 690 6310 690 7710 690 9110 690 1...</td>\n",
       "      <td>2047 703 3447 703 4847 703 6247 703 7647 703 9...</td>\n",
       "      <td>NaN</td>\n",
       "      <td>658170 388 659570 388 660970 388 662370 388 66...</td>\n",
       "      <td>3</td>\n",
       "      <td>True</td>\n",
       "      <td>True</td>\n",
       "      <td>False</td>\n",
       "      <td>True</td>\n",
       "    </tr>\n",
       "    <tr>\n",
       "      <th>0035239.jpg</th>\n",
       "      <td>NaN</td>\n",
       "      <td>100812 462 102212 462 103612 462 105012 462 10...</td>\n",
       "      <td>65400 380 66800 380 68200 380 69600 380 71000 ...</td>\n",
       "      <td>NaN</td>\n",
       "      <td>2</td>\n",
       "      <td>False</td>\n",
       "      <td>True</td>\n",
       "      <td>True</td>\n",
       "      <td>False</td>\n",
       "    </tr>\n",
       "    <tr>\n",
       "      <th>003994e.jpg</th>\n",
       "      <td>2367966 18 2367985 2 2367993 8 2368002 62 2369...</td>\n",
       "      <td>NaN</td>\n",
       "      <td>353317 416 354717 416 356117 416 357517 416 35...</td>\n",
       "      <td>28011 489 29411 489 30811 489 32211 489 33611 ...</td>\n",
       "      <td>3</td>\n",
       "      <td>True</td>\n",
       "      <td>False</td>\n",
       "      <td>True</td>\n",
       "      <td>True</td>\n",
       "    </tr>\n",
       "  </tbody>\n",
       "</table>\n",
       "</div>"
      ],
      "text/plain": [
       "                                                          rle0  \\\n",
       "Image                                                            \n",
       "0011165.jpg  264918 937 266318 937 267718 937 269118 937 27...   \n",
       "002be4f.jpg  233813 878 235213 878 236613 878 238010 881 23...   \n",
       "0031ae9.jpg  3510 690 4910 690 6310 690 7710 690 9110 690 1...   \n",
       "0035239.jpg                                                NaN   \n",
       "003994e.jpg  2367966 18 2367985 2 2367993 8 2368002 62 2369...   \n",
       "\n",
       "                                                          rle1  \\\n",
       "Image                                                            \n",
       "0011165.jpg  1355565 1002 1356965 1002 1358365 1002 1359765...   \n",
       "002be4f.jpg  1339279 519 1340679 519 1342079 519 1343479 51...   \n",
       "0031ae9.jpg  2047 703 3447 703 4847 703 6247 703 7647 703 9...   \n",
       "0035239.jpg  100812 462 102212 462 103612 462 105012 462 10...   \n",
       "003994e.jpg                                                NaN   \n",
       "\n",
       "                                                          rle2  \\\n",
       "Image                                                            \n",
       "0011165.jpg                                                NaN   \n",
       "002be4f.jpg                                                NaN   \n",
       "0031ae9.jpg                                                NaN   \n",
       "0035239.jpg  65400 380 66800 380 68200 380 69600 380 71000 ...   \n",
       "003994e.jpg  353317 416 354717 416 356117 416 357517 416 35...   \n",
       "\n",
       "                                                          rle3  n_classes  \\\n",
       "Image                                                                       \n",
       "0011165.jpg                                                NaN          2   \n",
       "002be4f.jpg  67495 350 68895 350 70295 350 71695 350 73095 ...          3   \n",
       "0031ae9.jpg  658170 388 659570 388 660970 388 662370 388 66...          3   \n",
       "0035239.jpg                                                NaN          2   \n",
       "003994e.jpg  28011 489 29411 489 30811 489 32211 489 33611 ...          3   \n",
       "\n",
       "                c0     c1     c2     c3  \n",
       "Image                                    \n",
       "0011165.jpg   True   True  False  False  \n",
       "002be4f.jpg   True   True  False   True  \n",
       "0031ae9.jpg   True   True  False   True  \n",
       "0035239.jpg  False   True   True  False  \n",
       "003994e.jpg   True  False   True   True  "
      ]
     },
     "execution_count": 3,
     "metadata": {},
     "output_type": "execute_result"
    }
   ],
   "source": [
    "train_csv = '../data/raw/train.csv'\n",
    "df = pd.read_csv(train_csv)\n",
    "print(df.shape)\n",
    "df = pivot_df(df)\n",
    "df.head()"
   ]
  },
  {
   "cell_type": "code",
   "execution_count": 4,
   "metadata": {},
   "outputs": [
    {
     "data": {
      "text/html": [
       "<div>\n",
       "<style scoped>\n",
       "    .dataframe tbody tr th:only-of-type {\n",
       "        vertical-align: middle;\n",
       "    }\n",
       "\n",
       "    .dataframe tbody tr th {\n",
       "        vertical-align: top;\n",
       "    }\n",
       "\n",
       "    .dataframe thead th {\n",
       "        text-align: right;\n",
       "    }\n",
       "</style>\n",
       "<table border=\"1\" class=\"dataframe\">\n",
       "  <thead>\n",
       "    <tr style=\"text-align: right;\">\n",
       "      <th></th>\n",
       "      <th>rle0</th>\n",
       "      <th>rle1</th>\n",
       "      <th>rle2</th>\n",
       "      <th>rle3</th>\n",
       "      <th>c0</th>\n",
       "      <th>c1</th>\n",
       "      <th>c2</th>\n",
       "      <th>c3</th>\n",
       "    </tr>\n",
       "    <tr>\n",
       "      <th>n_classes</th>\n",
       "      <th></th>\n",
       "      <th></th>\n",
       "      <th></th>\n",
       "      <th></th>\n",
       "      <th></th>\n",
       "      <th></th>\n",
       "      <th></th>\n",
       "      <th></th>\n",
       "    </tr>\n",
       "  </thead>\n",
       "  <tbody>\n",
       "    <tr>\n",
       "      <th>1</th>\n",
       "      <td>274</td>\n",
       "      <td>355</td>\n",
       "      <td>287</td>\n",
       "      <td>432</td>\n",
       "      <td>1348</td>\n",
       "      <td>1348</td>\n",
       "      <td>1348</td>\n",
       "      <td>1348</td>\n",
       "    </tr>\n",
       "    <tr>\n",
       "      <th>2</th>\n",
       "      <td>1030</td>\n",
       "      <td>910</td>\n",
       "      <td>1154</td>\n",
       "      <td>1650</td>\n",
       "      <td>2372</td>\n",
       "      <td>2372</td>\n",
       "      <td>2372</td>\n",
       "      <td>2372</td>\n",
       "    </tr>\n",
       "    <tr>\n",
       "      <th>3</th>\n",
       "      <td>1211</td>\n",
       "      <td>834</td>\n",
       "      <td>1232</td>\n",
       "      <td>1403</td>\n",
       "      <td>1560</td>\n",
       "      <td>1560</td>\n",
       "      <td>1560</td>\n",
       "      <td>1560</td>\n",
       "    </tr>\n",
       "    <tr>\n",
       "      <th>4</th>\n",
       "      <td>266</td>\n",
       "      <td>266</td>\n",
       "      <td>266</td>\n",
       "      <td>266</td>\n",
       "      <td>266</td>\n",
       "      <td>266</td>\n",
       "      <td>266</td>\n",
       "      <td>266</td>\n",
       "    </tr>\n",
       "  </tbody>\n",
       "</table>\n",
       "</div>"
      ],
      "text/plain": [
       "           rle0  rle1  rle2  rle3    c0    c1    c2    c3\n",
       "n_classes                                                \n",
       "1           274   355   287   432  1348  1348  1348  1348\n",
       "2          1030   910  1154  1650  2372  2372  2372  2372\n",
       "3          1211   834  1232  1403  1560  1560  1560  1560\n",
       "4           266   266   266   266   266   266   266   266"
      ]
     },
     "execution_count": 4,
     "metadata": {},
     "output_type": "execute_result"
    }
   ],
   "source": [
    "df.groupby('n_classes').count()"
   ]
  },
  {
   "cell_type": "code",
   "execution_count": 5,
   "metadata": {},
   "outputs": [
    {
     "data": {
      "text/plain": [
       "[0.5014424810674359,\n",
       " 0.4264334655607645,\n",
       " 0.5299314821492968,\n",
       " 0.6763433104940497]"
      ]
     },
     "execution_count": 5,
     "metadata": {},
     "output_type": "execute_result"
    }
   ],
   "source": [
    "counts = [df[f'c{c}'].sum() / df.shape[0] for c in range(4)]\n",
    "counts\n",
    "\n",
    "# Test distribution:\n",
    "# {0: 0.20988099531193652,\n",
    "#  1: 0.23764875586007933,\n",
    "#  2: 0.21168409664623153,\n",
    "#  3: 0.36458708979444643}"
   ]
  },
  {
   "cell_type": "code",
   "execution_count": 6,
   "metadata": {},
   "outputs": [
    {
     "data": {
      "text/plain": [
       "[1854.3342949873781, 1576.9509556437072, 1959.6866209880993, 2501.117562206996]"
      ]
     },
     "execution_count": 6,
     "metadata": {},
     "output_type": "execute_result"
    }
   ],
   "source": [
    "[c * 3698 for c in counts]"
   ]
  },
  {
   "cell_type": "code",
   "execution_count": 7,
   "metadata": {},
   "outputs": [],
   "source": [
    "def pixel_count(s):\n",
    "    if not isinstance(s, str):\n",
    "        return 0\n",
    "    mask = RLEInput.from_str(s).to_mask()\n",
    "    return mask.sum()"
   ]
  },
  {
   "cell_type": "code",
   "execution_count": 8,
   "metadata": {},
   "outputs": [],
   "source": [
    "H = RLEInput.MASK_H\n",
    "W = RLEInput.MASK_W\n",
    "HxW = H * W"
   ]
  },
  {
   "cell_type": "code",
   "execution_count": 9,
   "metadata": {},
   "outputs": [
    {
     "data": {
      "text/html": [
       "<div>\n",
       "<style scoped>\n",
       "    .dataframe tbody tr th:only-of-type {\n",
       "        vertical-align: middle;\n",
       "    }\n",
       "\n",
       "    .dataframe tbody tr th {\n",
       "        vertical-align: top;\n",
       "    }\n",
       "\n",
       "    .dataframe thead th {\n",
       "        text-align: right;\n",
       "    }\n",
       "</style>\n",
       "<table border=\"1\" class=\"dataframe\">\n",
       "  <thead>\n",
       "    <tr style=\"text-align: right;\">\n",
       "      <th></th>\n",
       "      <th>rle0</th>\n",
       "      <th>rle1</th>\n",
       "      <th>rle2</th>\n",
       "      <th>rle3</th>\n",
       "      <th>n_classes</th>\n",
       "      <th>c0</th>\n",
       "      <th>c1</th>\n",
       "      <th>c2</th>\n",
       "      <th>c3</th>\n",
       "      <th>px0</th>\n",
       "      <th>px1</th>\n",
       "      <th>px2</th>\n",
       "      <th>px3</th>\n",
       "    </tr>\n",
       "    <tr>\n",
       "      <th>Image</th>\n",
       "      <th></th>\n",
       "      <th></th>\n",
       "      <th></th>\n",
       "      <th></th>\n",
       "      <th></th>\n",
       "      <th></th>\n",
       "      <th></th>\n",
       "      <th></th>\n",
       "      <th></th>\n",
       "      <th></th>\n",
       "      <th></th>\n",
       "      <th></th>\n",
       "      <th></th>\n",
       "    </tr>\n",
       "  </thead>\n",
       "  <tbody>\n",
       "    <tr>\n",
       "      <th>0011165.jpg</th>\n",
       "      <td>264918 937 266318 937 267718 937 269118 937 27...</td>\n",
       "      <td>1355565 1002 1356965 1002 1358365 1002 1359765...</td>\n",
       "      <td>NaN</td>\n",
       "      <td>NaN</td>\n",
       "      <td>2</td>\n",
       "      <td>True</td>\n",
       "      <td>True</td>\n",
       "      <td>False</td>\n",
       "      <td>False</td>\n",
       "      <td>0.317113</td>\n",
       "      <td>0.393234</td>\n",
       "      <td>0.0</td>\n",
       "      <td>0.000000</td>\n",
       "    </tr>\n",
       "    <tr>\n",
       "      <th>002be4f.jpg</th>\n",
       "      <td>233813 878 235213 878 236613 878 238010 881 23...</td>\n",
       "      <td>1339279 519 1340679 519 1342079 519 1343479 51...</td>\n",
       "      <td>NaN</td>\n",
       "      <td>67495 350 68895 350 70295 350 71695 350 73095 ...</td>\n",
       "      <td>3</td>\n",
       "      <td>True</td>\n",
       "      <td>True</td>\n",
       "      <td>False</td>\n",
       "      <td>True</td>\n",
       "      <td>0.572900</td>\n",
       "      <td>0.201598</td>\n",
       "      <td>0.0</td>\n",
       "      <td>0.106786</td>\n",
       "    </tr>\n",
       "  </tbody>\n",
       "</table>\n",
       "</div>"
      ],
      "text/plain": [
       "                                                          rle0  \\\n",
       "Image                                                            \n",
       "0011165.jpg  264918 937 266318 937 267718 937 269118 937 27...   \n",
       "002be4f.jpg  233813 878 235213 878 236613 878 238010 881 23...   \n",
       "\n",
       "                                                          rle1 rle2  \\\n",
       "Image                                                                 \n",
       "0011165.jpg  1355565 1002 1356965 1002 1358365 1002 1359765...  NaN   \n",
       "002be4f.jpg  1339279 519 1340679 519 1342079 519 1343479 51...  NaN   \n",
       "\n",
       "                                                          rle3  n_classes  \\\n",
       "Image                                                                       \n",
       "0011165.jpg                                                NaN          2   \n",
       "002be4f.jpg  67495 350 68895 350 70295 350 71695 350 73095 ...          3   \n",
       "\n",
       "               c0    c1     c2     c3       px0       px1  px2       px3  \n",
       "Image                                                                     \n",
       "0011165.jpg  True  True  False  False  0.317113  0.393234  0.0  0.000000  \n",
       "002be4f.jpg  True  True  False   True  0.572900  0.201598  0.0  0.106786  "
      ]
     },
     "execution_count": 9,
     "metadata": {},
     "output_type": "execute_result"
    }
   ],
   "source": [
    "df['px0'] = df.iloc[:, 0].apply(pixel_count) / HxW\n",
    "df['px1'] = df.iloc[:, 1].apply(pixel_count) / HxW\n",
    "df['px2'] = df.iloc[:, 2].apply(pixel_count) / HxW\n",
    "df['px3'] = df.iloc[:, 3].apply(pixel_count) / HxW\n",
    "df.head(2)"
   ]
  },
  {
   "cell_type": "code",
   "execution_count": 27,
   "metadata": {},
   "outputs": [
    {
     "data": {
      "text/html": [
       "<div>\n",
       "<style scoped>\n",
       "    .dataframe tbody tr th:only-of-type {\n",
       "        vertical-align: middle;\n",
       "    }\n",
       "\n",
       "    .dataframe tbody tr th {\n",
       "        vertical-align: top;\n",
       "    }\n",
       "\n",
       "    .dataframe thead th {\n",
       "        text-align: right;\n",
       "    }\n",
       "</style>\n",
       "<table border=\"1\" class=\"dataframe\">\n",
       "  <thead>\n",
       "    <tr style=\"text-align: right;\">\n",
       "      <th></th>\n",
       "      <th>rle0</th>\n",
       "      <th>rle1</th>\n",
       "      <th>rle2</th>\n",
       "      <th>rle3</th>\n",
       "      <th>n_classes</th>\n",
       "      <th>c0</th>\n",
       "      <th>c1</th>\n",
       "      <th>c2</th>\n",
       "      <th>c3</th>\n",
       "      <th>px0</th>\n",
       "      <th>px1</th>\n",
       "      <th>px2</th>\n",
       "      <th>px3</th>\n",
       "    </tr>\n",
       "    <tr>\n",
       "      <th>Image</th>\n",
       "      <th></th>\n",
       "      <th></th>\n",
       "      <th></th>\n",
       "      <th></th>\n",
       "      <th></th>\n",
       "      <th></th>\n",
       "      <th></th>\n",
       "      <th></th>\n",
       "      <th></th>\n",
       "      <th></th>\n",
       "      <th></th>\n",
       "      <th></th>\n",
       "      <th></th>\n",
       "    </tr>\n",
       "  </thead>\n",
       "  <tbody>\n",
       "    <tr>\n",
       "      <th>0011165.jpg</th>\n",
       "      <td>264918 937 266318 937 267718 937 269118 937 27...</td>\n",
       "      <td>1355565 1002 1356965 1002 1358365 1002 1359765...</td>\n",
       "      <td>NaN</td>\n",
       "      <td>NaN</td>\n",
       "      <td>2</td>\n",
       "      <td>1.0</td>\n",
       "      <td>1.0</td>\n",
       "      <td>NaN</td>\n",
       "      <td>NaN</td>\n",
       "      <td>0.317113</td>\n",
       "      <td>0.393234</td>\n",
       "      <td>NaN</td>\n",
       "      <td>NaN</td>\n",
       "    </tr>\n",
       "    <tr>\n",
       "      <th>002be4f.jpg</th>\n",
       "      <td>233813 878 235213 878 236613 878 238010 881 23...</td>\n",
       "      <td>1339279 519 1340679 519 1342079 519 1343479 51...</td>\n",
       "      <td>NaN</td>\n",
       "      <td>67495 350 68895 350 70295 350 71695 350 73095 ...</td>\n",
       "      <td>3</td>\n",
       "      <td>1.0</td>\n",
       "      <td>1.0</td>\n",
       "      <td>NaN</td>\n",
       "      <td>1.0</td>\n",
       "      <td>0.572900</td>\n",
       "      <td>0.201598</td>\n",
       "      <td>NaN</td>\n",
       "      <td>0.106786</td>\n",
       "    </tr>\n",
       "  </tbody>\n",
       "</table>\n",
       "</div>"
      ],
      "text/plain": [
       "                                                          rle0  \\\n",
       "Image                                                            \n",
       "0011165.jpg  264918 937 266318 937 267718 937 269118 937 27...   \n",
       "002be4f.jpg  233813 878 235213 878 236613 878 238010 881 23...   \n",
       "\n",
       "                                                          rle1 rle2  \\\n",
       "Image                                                                 \n",
       "0011165.jpg  1355565 1002 1356965 1002 1358365 1002 1359765...  NaN   \n",
       "002be4f.jpg  1339279 519 1340679 519 1342079 519 1343479 51...  NaN   \n",
       "\n",
       "                                                          rle3  n_classes  \\\n",
       "Image                                                                       \n",
       "0011165.jpg                                                NaN          2   \n",
       "002be4f.jpg  67495 350 68895 350 70295 350 71695 350 73095 ...          3   \n",
       "\n",
       "              c0   c1  c2   c3       px0       px1  px2       px3  \n",
       "Image                                                              \n",
       "0011165.jpg  1.0  1.0 NaN  NaN  0.317113  0.393234  NaN       NaN  \n",
       "002be4f.jpg  1.0  1.0 NaN  1.0  0.572900  0.201598  NaN  0.106786  "
      ]
     },
     "execution_count": 27,
     "metadata": {},
     "output_type": "execute_result"
    }
   ],
   "source": [
    "df[df == 0] = np.nan\n",
    "df.head(2)"
   ]
  },
  {
   "cell_type": "code",
   "execution_count": 32,
   "metadata": {},
   "outputs": [
    {
     "name": "stdout",
     "output_type": "stream",
     "text": [
      "0.08983979591836734\n",
      "0.260184693877551\n",
      "0.5470751700680272\n",
      "\n",
      "\n",
      "0.10307727891156462\n",
      "0.2890142857142857\n",
      "0.6059870748299319\n",
      "\n",
      "\n",
      "0.08504809523809524\n",
      "0.23616666666666666\n",
      "0.5606065306122452\n",
      "\n",
      "\n",
      "0.07595374149659864\n",
      "0.208165306122449\n",
      "0.4514942176870748\n"
     ]
    }
   ],
   "source": [
    "for q in [0.10, 0.50, 0.90]:\n",
    "    print(df.loc[pd.notnull(df.px0), 'px0'].quantile(q))\n",
    "print('\\n')\n",
    "for q in [0.10, 0.50, 0.90]:\n",
    "    print(df.loc[pd.notnull(df.px1), 'px1'].quantile(q))\n",
    "print('\\n')\n",
    "for q in [0.10, 0.50, 0.90]:\n",
    "    print(df.loc[pd.notnull(df.px2), 'px2'].quantile(q))\n",
    "print('\\n')\n",
    "for q in [0.10, 0.50, 0.90]:\n",
    "    print(df.loc[pd.notnull(df.px3), 'px3'].quantile(q))"
   ]
  },
  {
   "cell_type": "code",
   "execution_count": 28,
   "metadata": {},
   "outputs": [
    {
     "data": {
      "image/png": "[encoded data removed]",
      "text/plain": [
       "<Figure size 1152x864 with 4 Axes>"
      ]
     },
     "metadata": {
      "needs_background": "light"
     },
     "output_type": "display_data"
    }
   ],
   "source": [
    "fig, axs = plt.subplots(2, 2, figsize=(16, 12))\n",
    "sns.distplot(df.loc[pd.notnull(df.px0), 'px0'], bins=50, kde=False, norm_hist=True, ax=axs[0, 0])\n",
    "sns.distplot(df.loc[pd.notnull(df.px1), 'px1'], bins=50, kde=False, norm_hist=True, ax=axs[0, 1])\n",
    "sns.distplot(df.loc[pd.notnull(df.px2), 'px2'], bins=50, kde=False, norm_hist=True, ax=axs[1, 0])\n",
    "sns.distplot(df.loc[pd.notnull(df.px3), 'px3'], bins=50, kde=False, norm_hist=True, ax=axs[1, 1])\n",
    "plt.show()"
   ]
  },
  {
   "cell_type": "code",
   "execution_count": 34,
   "metadata": {},
   "outputs": [],
   "source": [
    "def analyse_component_sizes(rles):\n",
    "    component_sizes = []\n",
    "    for rle in tqdm(rles):\n",
    "        mask = RLEInput.from_str(rle).to_mask()\n",
    "        mask = cv2.resize(mask, (525, 350)).astype(np.uint8)\n",
    "        max_label, labelled_components = cv2.connectedComponents(mask)\n",
    "        for label in range(1, max_label+1):\n",
    "            component_size = (labelled_components == label).sum()\n",
    "            if component_size == 0:\n",
    "                continue\n",
    "            component_sizes.append(component_size)\n",
    "    return component_sizes"
   ]
  },
  {
   "cell_type": "code",
   "execution_count": 35,
   "metadata": {},
   "outputs": [
    {
     "name": "stderr",
     "output_type": "stream",
     "text": [
      "100%|██████████| 5546/5546 [01:29<00:00, 62.25it/s]\n"
     ]
    }
   ],
   "source": [
    "c0_sizes = analyse_component_sizes(df.rle0.values)"
   ]
  },
  {
   "cell_type": "code",
   "execution_count": 36,
   "metadata": {},
   "outputs": [
    {
     "data": {
      "text/plain": [
       "6414"
      ]
     },
     "execution_count": 36,
     "metadata": {},
     "output_type": "execute_result"
    }
   ],
   "source": [
    "sizes = np.array(c0_sizes)\n",
    "len(sizes)"
   ]
  },
  {
   "cell_type": "code",
   "execution_count": 40,
   "metadata": {},
   "outputs": [
    {
     "data": {
      "text/plain": [
       "<matplotlib.axes._subplots.AxesSubplot at 0x7fa0b44197b8>"
      ]
     },
     "execution_count": 40,
     "metadata": {},
     "output_type": "execute_result"
    },
    {
     "data": {
      "image/png": "[encoded data removed]",
      "text/plain": [
       "<Figure size 432x288 with 1 Axes>"
      ]
     },
     "metadata": {
      "needs_background": "light"
     },
     "output_type": "display_data"
    }
   ],
   "source": [
    "sns.distplot(sizes, bins=10)"
   ]
  },
  {
   "cell_type": "code",
   "execution_count": null,
   "metadata": {},
   "outputs": [],
   "source": [
    "df.groupby(['c1', 'c2', 'c3', 'c4'])['defects'].count()"
   ]
  },
  {
   "cell_type": "code",
   "execution_count": null,
   "metadata": {},
   "outputs": [],
   "source": [
    "df.c3.mean()"
   ]
  },
  {
   "cell_type": "code",
   "execution_count": null,
   "metadata": {},
   "outputs": [],
   "source": [
    "df_empty.empty"
   ]
  },
  {
   "cell_type": "code",
   "execution_count": null,
   "metadata": {},
   "outputs": [],
   "source": [
    "df_nodef = df.loc[df.defects > 0, :]\n",
    "df_nodef.shape"
   ]
  },
  {
   "cell_type": "code",
   "execution_count": null,
   "metadata": {},
   "outputs": [],
   "source": []
  }
 ],
 "metadata": {
  "kernelspec": {
   "display_name": "Python 3",
   "language": "python",
   "name": "python3"
  },
  "language_info": {
   "codemirror_mode": {
    "name": "ipython",
    "version": 3
   },
   "file_extension": ".py",
   "mimetype": "text/x-python",
   "name": "python",
   "nbconvert_exporter": "python",
   "pygments_lexer": "ipython3",
   "version": "3.7.3"
  }
 },
 "nbformat": 4,
 "nbformat_minor": 2
}
