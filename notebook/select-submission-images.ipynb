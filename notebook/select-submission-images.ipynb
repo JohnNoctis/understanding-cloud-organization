{
 "cells": [
  {
   "cell_type": "code",
   "execution_count": 1,
   "metadata": {},
   "outputs": [],
   "source": [
    "%load_ext autoreload\n",
    "%autoreload 2\n",
    "%matplotlib inline"
   ]
  },
  {
   "cell_type": "code",
   "execution_count": 2,
   "metadata": {},
   "outputs": [],
   "source": [
    "import pandas as pd\n",
    "import numpy as np\n",
    "import matplotlib.pyplot as plt\n",
    "import h5py\n",
    "import cv2\n",
    "from scipy.stats import rankdata\n",
    "from tqdm import tqdm\n",
    "from pathlib import Path\n",
    "from uco.data_loader import pivot_df"
   ]
  },
  {
   "cell_type": "code",
   "execution_count": 5,
   "metadata": {},
   "outputs": [],
   "source": [
    "original_dir = Path('../data/original')"
   ]
  },
  {
   "cell_type": "code",
   "execution_count": 6,
   "metadata": {},
   "outputs": [],
   "source": [
    "def get_df():\n",
    "    df = pd.read_csv('../data/raw/sample_submission.csv')\n",
    "    df = pivot_df(df).reset_index()[['Image']]\n",
    "    return df"
   ]
  },
  {
   "cell_type": "code",
   "execution_count": 150,
   "metadata": {},
   "outputs": [
    {
     "name": "stderr",
     "output_type": "stream",
     "text": [
      "100%|██████████| 4/4 [00:20<00:00,  5.10s/it]\n"
     ]
    }
   ],
   "source": [
    "# Save prediction ranks based on segmentation models\n",
    "with h5py.File(original_dir / 'avg-seg-predictions.h5', 'r') as f:\n",
    "    # group_names = [k for k in f.keys() if k != 'average']\n",
    "    group_names = ['average']\n",
    "    for c in tqdm(list(range(4))):\n",
    "        df = get_df()\n",
    "        for k in group_names:\n",
    "            preds = f[k][:, c, :, :]\n",
    "            totals = np.sum(np.square(preds), axis=1)\n",
    "            totals = np.sum(totals, axis=1)\n",
    "            ranks = rankdata(totals)\n",
    "            df[k] = ranks\n",
    "        df.set_index('Image', inplace=True)\n",
    "        df['mean'] = df.apply(lambda row: row.mean(), axis=1)\n",
    "        df['rank'] = rankdata(df['mean'])\n",
    "        df.to_csv(original_dir / f'segmentation-ranks-c{c}.csv')"
   ]
  },
  {
   "cell_type": "code",
   "execution_count": 151,
   "metadata": {},
   "outputs": [],
   "source": [
    "# Save prediction ranks based on classification models\n",
    "with h5py.File(original_dir / 'avg-clas-predictions.h5', 'r') as f:\n",
    "    k = 'average'\n",
    "    for c in range(4):\n",
    "        df = get_df()\n",
    "        preds = f[k][:, c]\n",
    "        ranks = rankdata(preds)\n",
    "        df['rank'] = ranks\n",
    "        df.to_csv(original_dir / f'classification-ranks-c{c}.csv', index=False)"
   ]
  },
  {
   "cell_type": "code",
   "execution_count": 152,
   "metadata": {},
   "outputs": [
    {
     "name": "stdout",
     "output_type": "stream",
     "text": [
      "[1834 2190 1716 1316] [2450 2326 2460 1626]\n"
     ]
    }
   ],
   "source": [
    "df = get_df()\n",
    "n_total = np.array([df.shape[0]] * 4)\n",
    "target_counts = np.array([1864, 1508, 1982, 2382])\n",
    "clas_cutoff = n_total - target_counts\n",
    "seg_cutoff = n_total - (target_counts * [0.67, 0.91, 0.625, 0.87]).astype(np.uint32)\n",
    "print(clas_cutoff, seg_cutoff)"
   ]
  },
  {
   "cell_type": "code",
   "execution_count": 153,
   "metadata": {},
   "outputs": [],
   "source": [
    "for c in range(4):\n",
    "    df_seg  = pd.read_csv(original_dir / f'segmentation-ranks-c{c}.csv')\n",
    "    df_clas = pd.read_csv(original_dir / f'classification-ranks-c{c}.csv')\n",
    "    \n",
    "    avg = rankdata((df_seg['rank'] + df_clas['rank']) / 2)\n",
    "    df[str(c)] = avg > seg_cutoff[c]\n",
    "df.to_csv(original_dir / 'selected.csv', index=False)"
   ]
  },
  {
   "cell_type": "code",
   "execution_count": 154,
   "metadata": {},
   "outputs": [
    {
     "data": {
      "text/plain": [
       "Image    002f507.jpg0035ae9.jpg0038327.jpg004f759.jpg00...\n",
       "0                                                     1248\n",
       "1                                                     1373\n",
       "2                                                     1238\n",
       "3                                                     2073\n",
       "dtype: object"
      ]
     },
     "execution_count": 154,
     "metadata": {},
     "output_type": "execute_result"
    }
   ],
   "source": [
    "df.sum(axis=0)"
   ]
  },
  {
   "cell_type": "code",
   "execution_count": 155,
   "metadata": {},
   "outputs": [
    {
     "data": {
      "text/plain": [
       "(3698, 5)"
      ]
     },
     "execution_count": 155,
     "metadata": {},
     "output_type": "execute_result"
    }
   ],
   "source": [
    "df.shape"
   ]
  },
  {
   "cell_type": "code",
   "execution_count": 156,
   "metadata": {},
   "outputs": [
    {
     "data": {
      "text/html": [
       "<div>\n",
       "<style scoped>\n",
       "    .dataframe tbody tr th:only-of-type {\n",
       "        vertical-align: middle;\n",
       "    }\n",
       "\n",
       "    .dataframe tbody tr th {\n",
       "        vertical-align: top;\n",
       "    }\n",
       "\n",
       "    .dataframe thead th {\n",
       "        text-align: right;\n",
       "    }\n",
       "</style>\n",
       "<table border=\"1\" class=\"dataframe\">\n",
       "  <thead>\n",
       "    <tr style=\"text-align: right;\">\n",
       "      <th></th>\n",
       "      <th>Image</th>\n",
       "      <th>0</th>\n",
       "      <th>1</th>\n",
       "      <th>2</th>\n",
       "      <th>3</th>\n",
       "      <th>count</th>\n",
       "    </tr>\n",
       "  </thead>\n",
       "  <tbody>\n",
       "    <tr>\n",
       "      <th>0</th>\n",
       "      <td>002f507.jpg</td>\n",
       "      <td>False</td>\n",
       "      <td>False</td>\n",
       "      <td>True</td>\n",
       "      <td>False</td>\n",
       "      <td>1</td>\n",
       "    </tr>\n",
       "    <tr>\n",
       "      <th>1</th>\n",
       "      <td>0035ae9.jpg</td>\n",
       "      <td>False</td>\n",
       "      <td>False</td>\n",
       "      <td>True</td>\n",
       "      <td>True</td>\n",
       "      <td>2</td>\n",
       "    </tr>\n",
       "    <tr>\n",
       "      <th>2</th>\n",
       "      <td>0038327.jpg</td>\n",
       "      <td>False</td>\n",
       "      <td>False</td>\n",
       "      <td>False</td>\n",
       "      <td>True</td>\n",
       "      <td>1</td>\n",
       "    </tr>\n",
       "    <tr>\n",
       "      <th>3</th>\n",
       "      <td>004f759.jpg</td>\n",
       "      <td>False</td>\n",
       "      <td>True</td>\n",
       "      <td>False</td>\n",
       "      <td>True</td>\n",
       "      <td>2</td>\n",
       "    </tr>\n",
       "    <tr>\n",
       "      <th>4</th>\n",
       "      <td>005ba08.jpg</td>\n",
       "      <td>False</td>\n",
       "      <td>False</td>\n",
       "      <td>True</td>\n",
       "      <td>False</td>\n",
       "      <td>1</td>\n",
       "    </tr>\n",
       "  </tbody>\n",
       "</table>\n",
       "</div>"
      ],
      "text/plain": [
       "         Image      0      1      2      3  count\n",
       "0  002f507.jpg  False  False   True  False      1\n",
       "1  0035ae9.jpg  False  False   True   True      2\n",
       "2  0038327.jpg  False  False  False   True      1\n",
       "3  004f759.jpg  False   True  False   True      2\n",
       "4  005ba08.jpg  False  False   True  False      1"
      ]
     },
     "execution_count": 156,
     "metadata": {},
     "output_type": "execute_result"
    }
   ],
   "source": [
    "df['count'] = df.sum(axis=1)\n",
    "df.head()"
   ]
  },
  {
   "cell_type": "code",
   "execution_count": 157,
   "metadata": {},
   "outputs": [
    {
     "data": {
      "text/plain": [
       "(68, 6)"
      ]
     },
     "execution_count": 157,
     "metadata": {},
     "output_type": "execute_result"
    }
   ],
   "source": [
    "df_empty = df.loc[df['count'] == 0, :]\n",
    "df_empty.shape"
   ]
  },
  {
   "cell_type": "code",
   "execution_count": null,
   "metadata": {},
   "outputs": [],
   "source": []
  },
  {
   "cell_type": "code",
   "execution_count": null,
   "metadata": {},
   "outputs": [],
   "source": []
  }
 ],
 "metadata": {
  "kernelspec": {
   "display_name": "Python 3",
   "language": "python",
   "name": "python3"
  },
  "language_info": {
   "codemirror_mode": {
    "name": "ipython",
    "version": 3
   },
   "file_extension": ".py",
   "mimetype": "text/x-python",
   "name": "python",
   "nbconvert_exporter": "python",
   "pygments_lexer": "ipython3",
   "version": "3.7.3"
  }
 },
 "nbformat": 4,
 "nbformat_minor": 2
}
