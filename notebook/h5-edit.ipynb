{
 "cells": [
  {
   "cell_type": "code",
   "execution_count": 2,
   "metadata": {},
   "outputs": [],
   "source": [
    "import h5py"
   ]
  },
  {
   "cell_type": "code",
   "execution_count": 3,
   "metadata": {},
   "outputs": [
    {
     "name": "stdout",
     "output_type": "stream",
     "text": [
      "average\n",
      "densenet161-FPN\n",
      "dpn131-FPN\n",
      "efficientnet-b0-FPN\n",
      "efficientnet-b2-FPN\n",
      "efficientnet-b4-FPN\n",
      "efficientnet-b5-FPN\n",
      "efficientnet-b6-FPN\n",
      "inceptionresnetv2-FPN\n",
      "inceptionv4-FPN\n",
      "resnext101_32x8d-FPN\n",
      "se_resnext50_32x4d-FPN\n"
     ]
    }
   ],
   "source": [
    "with h5py.File('../data/pseudo/avg-seg-predictions.h5', 'a') as f:\n",
    "    for k in f.keys():\n",
    "        print(k)"
   ]
  },
  {
   "cell_type": "code",
   "execution_count": 4,
   "metadata": {},
   "outputs": [
    {
     "data": {
      "text/plain": [
       "0.022106631989596878"
      ]
     },
     "execution_count": 4,
     "metadata": {},
     "output_type": "execute_result"
    }
   ],
   "source": [
    "34/1538"
   ]
  },
  {
   "cell_type": "code",
   "execution_count": null,
   "metadata": {},
   "outputs": [],
   "source": []
  }
 ],
 "metadata": {
  "kernelspec": {
   "display_name": "Python 3",
   "language": "python",
   "name": "python3"
  },
  "language_info": {
   "codemirror_mode": {
    "name": "ipython",
    "version": 3
   },
   "file_extension": ".py",
   "mimetype": "text/x-python",
   "name": "python",
   "nbconvert_exporter": "python",
   "pygments_lexer": "ipython3",
   "version": "3.7.3"
  }
 },
 "nbformat": 4,
 "nbformat_minor": 2
}
