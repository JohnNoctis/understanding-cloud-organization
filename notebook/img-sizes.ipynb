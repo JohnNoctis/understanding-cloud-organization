{
 "cells": [
  {
   "cell_type": "code",
   "execution_count": 4,
   "metadata": {},
   "outputs": [
    {
     "name": "stdout",
     "output_type": "stream",
     "text": [
      "43 65\n",
      "86 130\n",
      "172 260\n",
      "344 520\n",
      "688 1040\n",
      "1376 2080\n"
     ]
    }
   ],
   "source": [
    "IMAGE_ORIGINAL_HEIGHT = 1400\n",
    "IMAGE_ORIGINAL_WIDTH  = 2100\n",
    "\n",
    "h = 43\n",
    "w = 65\n",
    "for _ in range(6):\n",
    "    print(h, w)\n",
    "    h *= 2\n",
    "    w *= 2"
   ]
  },
  {
   "cell_type": "code",
   "execution_count": 3,
   "metadata": {},
   "outputs": [
    {
     "name": "stdout",
     "output_type": "stream",
     "text": [
      "1392 2096\n",
      "696.0 1048.0\n",
      "348.0 524.0\n",
      "174.0 262.0\n",
      "87.0 131.0\n",
      "43.5 65.5\n"
     ]
    }
   ],
   "source": [
    "h = 1392\n",
    "w = 2096\n",
    "for _ in range(6):\n",
    "    print(h, w)\n",
    "    h /= 2\n",
    "    w /= 2"
   ]
  },
  {
   "cell_type": "code",
   "execution_count": null,
   "metadata": {},
   "outputs": [],
   "source": []
  }
 ],
 "metadata": {
  "kernelspec": {
   "display_name": "Python 3",
   "language": "python",
   "name": "python3"
  },
  "language_info": {
   "codemirror_mode": {
    "name": "ipython",
    "version": 3
   },
   "file_extension": ".py",
   "mimetype": "text/x-python",
   "name": "python",
   "nbconvert_exporter": "python",
   "pygments_lexer": "ipython3",
   "version": "3.7.3"
  }
 },
 "nbformat": 4,
 "nbformat_minor": 2
}
